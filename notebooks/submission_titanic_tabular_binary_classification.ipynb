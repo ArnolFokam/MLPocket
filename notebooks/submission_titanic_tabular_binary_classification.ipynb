{
 "cells": [
  {
   "cell_type": "markdown",
   "metadata": {
    "collapsed": true,
    "pycharm": {
     "name": "#%% md\n"
    }
   },
   "source": [
    "# Libraries"
   ]
  },
  {
   "cell_type": "code",
   "execution_count": 5,
   "metadata": {},
   "outputs": [],
   "source": [
    "import numpy as np\n",
    "import seaborn as sns\n",
    "from pprint import pprint\n",
    "from mlpocket.tabular import *"
   ]
  },
  {
   "cell_type": "markdown",
   "metadata": {
    "pycharm": {
     "name": "#%% md\n"
    }
   },
   "source": [
    "# Data"
   ]
  },
  {
   "cell_type": "markdown",
   "metadata": {
    "pycharm": {
     "name": "#%% md\n"
    }
   },
   "source": [
    "### Loading"
   ]
  },
  {
   "cell_type": "code",
   "execution_count": 6,
   "metadata": {
    "pycharm": {
     "is_executing": true,
     "name": "#%%\n"
    }
   },
   "outputs": [],
   "source": [
    "_, _, train = load_data(path=\"../data/raw/titanic/train.csv\", labels=[\"Survived\"])\n",
    "test = load_data(path=\"../data/raw/titanic/test.csv\")"
   ]
  },
  {
   "cell_type": "markdown",
   "metadata": {
    "pycharm": {
     "name": "#%% md\n"
    }
   },
   "source": [
    "### Cleaning"
   ]
  },
  {
   "cell_type": "markdown",
   "metadata": {
    "pycharm": {
     "name": "#%% md\n"
    }
   },
   "source": [
    "### Visualization"
   ]
  },
  {
   "cell_type": "markdown",
   "metadata": {},
   "source": [
    "##### NaN statistics"
   ]
  },
  {
   "cell_type": "code",
   "execution_count": 7,
   "metadata": {},
   "outputs": [
    {
     "name": "stdout",
     "output_type": "stream",
     "text": [
      "\n",
      "Printing percentage of NaN values per columns\n",
      "PassengerId:  0.0 0 columns\n",
      "Survived:  0.0 0 columns\n",
      "Pclass:  0.0 0 columns\n",
      "Name:  0.0 0 columns\n",
      "Sex:  0.0 0 columns\n",
      "Age:  0.19865319865319866 177 columns\n",
      "SibSp:  0.0 0 columns\n",
      "Parch:  0.0 0 columns\n",
      "Ticket:  0.0 0 columns\n",
      "Fare:  0.0 0 columns\n",
      "Cabin:  0.7710437710437711 687 columns\n",
      "Embarked:  0.002244668911335578 2 columns\n"
     ]
    },
    {
     "data": {
      "text/html": [
       "<div>\n",
       "<style scoped>\n",
       "    .dataframe tbody tr th:only-of-type {\n",
       "        vertical-align: middle;\n",
       "    }\n",
       "\n",
       "    .dataframe tbody tr th {\n",
       "        vertical-align: top;\n",
       "    }\n",
       "\n",
       "    .dataframe thead th {\n",
       "        text-align: right;\n",
       "    }\n",
       "</style>\n",
       "<table border=\"1\" class=\"dataframe\">\n",
       "  <thead>\n",
       "    <tr style=\"text-align: right;\">\n",
       "      <th></th>\n",
       "      <th>PassengerId</th>\n",
       "      <th>Survived</th>\n",
       "      <th>Pclass</th>\n",
       "      <th>Name</th>\n",
       "      <th>Sex</th>\n",
       "      <th>Age</th>\n",
       "      <th>SibSp</th>\n",
       "      <th>Parch</th>\n",
       "      <th>Ticket</th>\n",
       "      <th>Fare</th>\n",
       "      <th>Cabin</th>\n",
       "      <th>Embarked</th>\n",
       "    </tr>\n",
       "  </thead>\n",
       "  <tbody>\n",
       "    <tr>\n",
       "      <th>0</th>\n",
       "      <td>1</td>\n",
       "      <td>0</td>\n",
       "      <td>3</td>\n",
       "      <td>Braund, Mr. Owen Harris</td>\n",
       "      <td>male</td>\n",
       "      <td>22.0</td>\n",
       "      <td>1</td>\n",
       "      <td>0</td>\n",
       "      <td>A/5 21171</td>\n",
       "      <td>7.2500</td>\n",
       "      <td>NaN</td>\n",
       "      <td>S</td>\n",
       "    </tr>\n",
       "    <tr>\n",
       "      <th>2</th>\n",
       "      <td>3</td>\n",
       "      <td>1</td>\n",
       "      <td>3</td>\n",
       "      <td>Heikkinen, Miss. Laina</td>\n",
       "      <td>female</td>\n",
       "      <td>26.0</td>\n",
       "      <td>0</td>\n",
       "      <td>0</td>\n",
       "      <td>STON/O2. 3101282</td>\n",
       "      <td>7.9250</td>\n",
       "      <td>NaN</td>\n",
       "      <td>S</td>\n",
       "    </tr>\n",
       "    <tr>\n",
       "      <th>4</th>\n",
       "      <td>5</td>\n",
       "      <td>0</td>\n",
       "      <td>3</td>\n",
       "      <td>Allen, Mr. William Henry</td>\n",
       "      <td>male</td>\n",
       "      <td>35.0</td>\n",
       "      <td>0</td>\n",
       "      <td>0</td>\n",
       "      <td>373450</td>\n",
       "      <td>8.0500</td>\n",
       "      <td>NaN</td>\n",
       "      <td>S</td>\n",
       "    </tr>\n",
       "    <tr>\n",
       "      <th>5</th>\n",
       "      <td>6</td>\n",
       "      <td>0</td>\n",
       "      <td>3</td>\n",
       "      <td>Moran, Mr. James</td>\n",
       "      <td>male</td>\n",
       "      <td>NaN</td>\n",
       "      <td>0</td>\n",
       "      <td>0</td>\n",
       "      <td>330877</td>\n",
       "      <td>8.4583</td>\n",
       "      <td>NaN</td>\n",
       "      <td>Q</td>\n",
       "    </tr>\n",
       "    <tr>\n",
       "      <th>7</th>\n",
       "      <td>8</td>\n",
       "      <td>0</td>\n",
       "      <td>3</td>\n",
       "      <td>Palsson, Master. Gosta Leonard</td>\n",
       "      <td>male</td>\n",
       "      <td>2.0</td>\n",
       "      <td>3</td>\n",
       "      <td>1</td>\n",
       "      <td>349909</td>\n",
       "      <td>21.0750</td>\n",
       "      <td>NaN</td>\n",
       "      <td>S</td>\n",
       "    </tr>\n",
       "    <tr>\n",
       "      <th>...</th>\n",
       "      <td>...</td>\n",
       "      <td>...</td>\n",
       "      <td>...</td>\n",
       "      <td>...</td>\n",
       "      <td>...</td>\n",
       "      <td>...</td>\n",
       "      <td>...</td>\n",
       "      <td>...</td>\n",
       "      <td>...</td>\n",
       "      <td>...</td>\n",
       "      <td>...</td>\n",
       "      <td>...</td>\n",
       "    </tr>\n",
       "    <tr>\n",
       "      <th>884</th>\n",
       "      <td>885</td>\n",
       "      <td>0</td>\n",
       "      <td>3</td>\n",
       "      <td>Sutehall, Mr. Henry Jr</td>\n",
       "      <td>male</td>\n",
       "      <td>25.0</td>\n",
       "      <td>0</td>\n",
       "      <td>0</td>\n",
       "      <td>SOTON/OQ 392076</td>\n",
       "      <td>7.0500</td>\n",
       "      <td>NaN</td>\n",
       "      <td>S</td>\n",
       "    </tr>\n",
       "    <tr>\n",
       "      <th>885</th>\n",
       "      <td>886</td>\n",
       "      <td>0</td>\n",
       "      <td>3</td>\n",
       "      <td>Rice, Mrs. William (Margaret Norton)</td>\n",
       "      <td>female</td>\n",
       "      <td>39.0</td>\n",
       "      <td>0</td>\n",
       "      <td>5</td>\n",
       "      <td>382652</td>\n",
       "      <td>29.1250</td>\n",
       "      <td>NaN</td>\n",
       "      <td>Q</td>\n",
       "    </tr>\n",
       "    <tr>\n",
       "      <th>886</th>\n",
       "      <td>887</td>\n",
       "      <td>0</td>\n",
       "      <td>2</td>\n",
       "      <td>Montvila, Rev. Juozas</td>\n",
       "      <td>male</td>\n",
       "      <td>27.0</td>\n",
       "      <td>0</td>\n",
       "      <td>0</td>\n",
       "      <td>211536</td>\n",
       "      <td>13.0000</td>\n",
       "      <td>NaN</td>\n",
       "      <td>S</td>\n",
       "    </tr>\n",
       "    <tr>\n",
       "      <th>888</th>\n",
       "      <td>889</td>\n",
       "      <td>0</td>\n",
       "      <td>3</td>\n",
       "      <td>Johnston, Miss. Catherine Helen \"Carrie\"</td>\n",
       "      <td>female</td>\n",
       "      <td>NaN</td>\n",
       "      <td>1</td>\n",
       "      <td>2</td>\n",
       "      <td>W./C. 6607</td>\n",
       "      <td>23.4500</td>\n",
       "      <td>NaN</td>\n",
       "      <td>S</td>\n",
       "    </tr>\n",
       "    <tr>\n",
       "      <th>890</th>\n",
       "      <td>891</td>\n",
       "      <td>0</td>\n",
       "      <td>3</td>\n",
       "      <td>Dooley, Mr. Patrick</td>\n",
       "      <td>male</td>\n",
       "      <td>32.0</td>\n",
       "      <td>0</td>\n",
       "      <td>0</td>\n",
       "      <td>370376</td>\n",
       "      <td>7.7500</td>\n",
       "      <td>NaN</td>\n",
       "      <td>Q</td>\n",
       "    </tr>\n",
       "  </tbody>\n",
       "</table>\n",
       "<p>708 rows × 12 columns</p>\n",
       "</div>"
      ],
      "text/plain": [
       "     PassengerId  Survived  Pclass                                      Name  \\\n",
       "0              1         0       3                   Braund, Mr. Owen Harris   \n",
       "2              3         1       3                    Heikkinen, Miss. Laina   \n",
       "4              5         0       3                  Allen, Mr. William Henry   \n",
       "5              6         0       3                          Moran, Mr. James   \n",
       "7              8         0       3            Palsson, Master. Gosta Leonard   \n",
       "..           ...       ...     ...                                       ...   \n",
       "884          885         0       3                    Sutehall, Mr. Henry Jr   \n",
       "885          886         0       3      Rice, Mrs. William (Margaret Norton)   \n",
       "886          887         0       2                     Montvila, Rev. Juozas   \n",
       "888          889         0       3  Johnston, Miss. Catherine Helen \"Carrie\"   \n",
       "890          891         0       3                       Dooley, Mr. Patrick   \n",
       "\n",
       "        Sex   Age  SibSp  Parch            Ticket     Fare Cabin Embarked  \n",
       "0      male  22.0      1      0         A/5 21171   7.2500   NaN        S  \n",
       "2    female  26.0      0      0  STON/O2. 3101282   7.9250   NaN        S  \n",
       "4      male  35.0      0      0            373450   8.0500   NaN        S  \n",
       "5      male   NaN      0      0            330877   8.4583   NaN        Q  \n",
       "7      male   2.0      3      1            349909  21.0750   NaN        S  \n",
       "..      ...   ...    ...    ...               ...      ...   ...      ...  \n",
       "884    male  25.0      0      0   SOTON/OQ 392076   7.0500   NaN        S  \n",
       "885  female  39.0      0      5            382652  29.1250   NaN        Q  \n",
       "886    male  27.0      0      0            211536  13.0000   NaN        S  \n",
       "888  female   NaN      1      2        W./C. 6607  23.4500   NaN        S  \n",
       "890    male  32.0      0      0            370376   7.7500   NaN        Q  \n",
       "\n",
       "[708 rows x 12 columns]"
      ]
     },
     "execution_count": 7,
     "metadata": {},
     "output_type": "execute_result"
    }
   ],
   "source": [
    "get_nan_stats(train)"
   ]
  },
  {
   "cell_type": "markdown",
   "metadata": {},
   "source": [
    "##### Data distributions"
   ]
  },
  {
   "cell_type": "code",
   "execution_count": 8,
   "metadata": {},
   "outputs": [
    {
     "data": {
      "text/html": [
       "<div>\n",
       "<style scoped>\n",
       "    .dataframe tbody tr th:only-of-type {\n",
       "        vertical-align: middle;\n",
       "    }\n",
       "\n",
       "    .dataframe tbody tr th {\n",
       "        vertical-align: top;\n",
       "    }\n",
       "\n",
       "    .dataframe thead th {\n",
       "        text-align: right;\n",
       "    }\n",
       "</style>\n",
       "<table border=\"1\" class=\"dataframe\">\n",
       "  <thead>\n",
       "    <tr style=\"text-align: right;\">\n",
       "      <th></th>\n",
       "      <th>PassengerId</th>\n",
       "      <th>Survived</th>\n",
       "      <th>Pclass</th>\n",
       "      <th>Age</th>\n",
       "      <th>SibSp</th>\n",
       "      <th>Parch</th>\n",
       "      <th>Fare</th>\n",
       "    </tr>\n",
       "  </thead>\n",
       "  <tbody>\n",
       "    <tr>\n",
       "      <th>548</th>\n",
       "      <td>549</td>\n",
       "      <td>0</td>\n",
       "      <td>3</td>\n",
       "      <td>33.0</td>\n",
       "      <td>1</td>\n",
       "      <td>1</td>\n",
       "      <td>20.5250</td>\n",
       "    </tr>\n",
       "    <tr>\n",
       "      <th>424</th>\n",
       "      <td>425</td>\n",
       "      <td>0</td>\n",
       "      <td>3</td>\n",
       "      <td>18.0</td>\n",
       "      <td>1</td>\n",
       "      <td>1</td>\n",
       "      <td>20.2125</td>\n",
       "    </tr>\n",
       "    <tr>\n",
       "      <th>792</th>\n",
       "      <td>793</td>\n",
       "      <td>0</td>\n",
       "      <td>3</td>\n",
       "      <td>NaN</td>\n",
       "      <td>8</td>\n",
       "      <td>2</td>\n",
       "      <td>69.5500</td>\n",
       "    </tr>\n",
       "    <tr>\n",
       "      <th>459</th>\n",
       "      <td>460</td>\n",
       "      <td>0</td>\n",
       "      <td>3</td>\n",
       "      <td>NaN</td>\n",
       "      <td>0</td>\n",
       "      <td>0</td>\n",
       "      <td>7.7500</td>\n",
       "    </tr>\n",
       "    <tr>\n",
       "      <th>367</th>\n",
       "      <td>368</td>\n",
       "      <td>1</td>\n",
       "      <td>3</td>\n",
       "      <td>NaN</td>\n",
       "      <td>0</td>\n",
       "      <td>0</td>\n",
       "      <td>7.2292</td>\n",
       "    </tr>\n",
       "    <tr>\n",
       "      <th>...</th>\n",
       "      <td>...</td>\n",
       "      <td>...</td>\n",
       "      <td>...</td>\n",
       "      <td>...</td>\n",
       "      <td>...</td>\n",
       "      <td>...</td>\n",
       "      <td>...</td>\n",
       "    </tr>\n",
       "    <tr>\n",
       "      <th>203</th>\n",
       "      <td>204</td>\n",
       "      <td>0</td>\n",
       "      <td>3</td>\n",
       "      <td>45.5</td>\n",
       "      <td>0</td>\n",
       "      <td>0</td>\n",
       "      <td>7.2250</td>\n",
       "    </tr>\n",
       "    <tr>\n",
       "      <th>824</th>\n",
       "      <td>825</td>\n",
       "      <td>0</td>\n",
       "      <td>3</td>\n",
       "      <td>2.0</td>\n",
       "      <td>4</td>\n",
       "      <td>1</td>\n",
       "      <td>39.6875</td>\n",
       "    </tr>\n",
       "    <tr>\n",
       "      <th>779</th>\n",
       "      <td>780</td>\n",
       "      <td>1</td>\n",
       "      <td>1</td>\n",
       "      <td>43.0</td>\n",
       "      <td>0</td>\n",
       "      <td>1</td>\n",
       "      <td>211.3375</td>\n",
       "    </tr>\n",
       "    <tr>\n",
       "      <th>407</th>\n",
       "      <td>408</td>\n",
       "      <td>1</td>\n",
       "      <td>2</td>\n",
       "      <td>3.0</td>\n",
       "      <td>1</td>\n",
       "      <td>1</td>\n",
       "      <td>18.7500</td>\n",
       "    </tr>\n",
       "    <tr>\n",
       "      <th>854</th>\n",
       "      <td>855</td>\n",
       "      <td>0</td>\n",
       "      <td>2</td>\n",
       "      <td>44.0</td>\n",
       "      <td>1</td>\n",
       "      <td>0</td>\n",
       "      <td>26.0000</td>\n",
       "    </tr>\n",
       "  </tbody>\n",
       "</table>\n",
       "<p>891 rows × 7 columns</p>\n",
       "</div>"
      ],
      "text/plain": [
       "     PassengerId  Survived  Pclass   Age  SibSp  Parch      Fare\n",
       "548          549         0       3  33.0      1      1   20.5250\n",
       "424          425         0       3  18.0      1      1   20.2125\n",
       "792          793         0       3   NaN      8      2   69.5500\n",
       "459          460         0       3   NaN      0      0    7.7500\n",
       "367          368         1       3   NaN      0      0    7.2292\n",
       "..           ...       ...     ...   ...    ...    ...       ...\n",
       "203          204         0       3  45.5      0      0    7.2250\n",
       "824          825         0       3   2.0      4      1   39.6875\n",
       "779          780         1       1  43.0      0      1  211.3375\n",
       "407          408         1       2   3.0      1      1   18.7500\n",
       "854          855         0       2  44.0      1      0   26.0000\n",
       "\n",
       "[891 rows x 7 columns]"
      ]
     },
     "execution_count": 8,
     "metadata": {},
     "output_type": "execute_result"
    },
    {
     "data": {
      "image/png": "[encoded data removed]",
      "text/plain": [
       "<Figure size 1440x1440 with 4 Axes>"
      ]
     },
     "metadata": {
      "needs_background": "light"
     },
     "output_type": "display_data"
    }
   ],
   "source": [
    "plot_columns_dist(train, columns = [\"Age\", \"Survived\", \"SibSp\"])"
   ]
  },
  {
   "cell_type": "markdown",
   "metadata": {},
   "source": [
    "##### Correlation of values"
   ]
  },
  {
   "cell_type": "code",
   "execution_count": 9,
   "metadata": {},
   "outputs": [
    {
     "data": {
      "text/plain": [
       "<AxesSubplot:>"
      ]
     },
     "execution_count": 9,
     "metadata": {},
     "output_type": "execute_result"
    },
    {
     "data": {
      "image/png": "[encoded data removed]",
      "text/plain": [
       "<Figure size 1440x720 with 2 Axes>"
      ]
     },
     "metadata": {
      "needs_background": "light"
     },
     "output_type": "display_data"
    }
   ],
   "source": [
    "plot_corr(train)"
   ]
  },
  {
   "cell_type": "markdown",
   "metadata": {},
   "source": [
    "#### Class Imbalance"
   ]
  },
  {
   "cell_type": "code",
   "execution_count": 10,
   "metadata": {},
   "outputs": [
    {
     "data": {
      "text/plain": [
       "0    0.616162\n",
       "1    0.383838\n",
       "Name: Survived, dtype: float64"
      ]
     },
     "execution_count": 10,
     "metadata": {},
     "output_type": "execute_result"
    }
   ],
   "source": [
    "train['Survived'].value_counts(normalize=True)"
   ]
  },
  {
   "cell_type": "code",
   "execution_count": 11,
   "metadata": {},
   "outputs": [
    {
     "data": {
      "text/plain": [
       "<AxesSubplot:xlabel='Survived', ylabel='count'>"
      ]
     },
     "execution_count": 11,
     "metadata": {},
     "output_type": "execute_result"
    },
    {
     "data": {
      "image/png": "[encoded data removed]",
      "text/plain": [
       "<Figure size 432x288 with 1 Axes>"
      ]
     },
     "metadata": {
      "needs_background": "light"
     },
     "output_type": "display_data"
    }
   ],
   "source": [
    "sns.countplot(x=train['Survived'])"
   ]
  },
  {
   "cell_type": "markdown",
   "metadata": {},
   "source": [
    "#### Features"
   ]
  },
  {
   "cell_type": "markdown",
   "metadata": {},
   "source": [
    "###### Sex"
   ]
  },
  {
   "cell_type": "code",
   "execution_count": 12,
   "metadata": {},
   "outputs": [
    {
     "name": "stdout",
     "output_type": "stream",
     "text": [
      "{0: {'female': 0.14754098360655737, 'male': 0.8524590163934426},\n",
      " 1: {'female': 0.6812865497076024, 'male': 0.31871345029239767}}\n"
     ]
    }
   ],
   "source": [
    "pprint(conditional_probabilities(train, 'Survived', 'Sex'))"
   ]
  },
  {
   "cell_type": "code",
   "execution_count": 13,
   "metadata": {},
   "outputs": [
    {
     "data": {
      "text/plain": [
       "<AxesSubplot:xlabel='Sex', ylabel='count'>"
      ]
     },
     "execution_count": 13,
     "metadata": {},
     "output_type": "execute_result"
    },
    {
     "data": {
      "image/png": "[encoded data removed]",
      "text/plain": [
       "<Figure size 432x288 with 1 Axes>"
      ]
     },
     "metadata": {
      "needs_background": "light"
     },
     "output_type": "display_data"
    }
   ],
   "source": [
    "sns.countplot(x=train['Sex'], hue=train['Survived'])"
   ]
  },
  {
   "cell_type": "markdown",
   "metadata": {},
   "source": [
    "##### Pclass"
   ]
  },
  {
   "cell_type": "code",
   "execution_count": 14,
   "metadata": {
    "scrolled": true
   },
   "outputs": [
    {
     "name": "stdout",
     "output_type": "stream",
     "text": [
      "{0: {1: 0.14571948998178508, 2: 0.1766848816029144, 3: 0.6775956284153005},\n",
      " 1: {1: 0.39766081871345027, 2: 0.2543859649122807, 3: 0.347953216374269}}\n"
     ]
    }
   ],
   "source": [
    "pprint(conditional_probabilities(train, 'Survived', 'Pclass'))"
   ]
  },
  {
   "cell_type": "code",
   "execution_count": 15,
   "metadata": {},
   "outputs": [
    {
     "data": {
      "text/plain": [
       "<AxesSubplot:xlabel='Pclass', ylabel='count'>"
      ]
     },
     "execution_count": 15,
     "metadata": {},
     "output_type": "execute_result"
    },
    {
     "data": {
      "image/png": "[encoded data removed]",
      "text/plain": [
       "<Figure size 432x288 with 1 Axes>"
      ]
     },
     "metadata": {
      "needs_background": "light"
     },
     "output_type": "display_data"
    }
   ],
   "source": [
    "sns.countplot(x=train['Pclass'], hue=train['Survived'])"
   ]
  },
  {
   "cell_type": "code",
   "execution_count": 16,
   "metadata": {},
   "outputs": [
    {
     "name": "stdout",
     "output_type": "stream",
     "text": [
      "{1: {0: 0.37037037037037035, 1: 0.6296296296296297},\n",
      " 2: {0: 0.5271739130434783, 1: 0.47282608695652173},\n",
      " 3: {0: 0.7576374745417516, 1: 0.24236252545824846}}\n"
     ]
    }
   ],
   "source": [
    "pprint(conditional_probabilities(train, 'Pclass', 'Survived'))"
   ]
  },
  {
   "cell_type": "markdown",
   "metadata": {},
   "source": [
    "##### Age"
   ]
  },
  {
   "cell_type": "code",
   "execution_count": 17,
   "metadata": {},
   "outputs": [
    {
     "data": {
      "text/plain": [
       "Age\n",
       "False    0.406162\n",
       "True     0.293785\n",
       "Name: Survived, dtype: float64"
      ]
     },
     "execution_count": 17,
     "metadata": {},
     "output_type": "execute_result"
    }
   ],
   "source": [
    "train['Survived'].groupby(train['Age'].isnull()).mean()"
   ]
  },
  {
   "cell_type": "code",
   "execution_count": 18,
   "metadata": {},
   "outputs": [
    {
     "data": {
      "text/plain": [
       "Age\n",
       "(0.419, 19.0]    0.481707\n",
       "(19.0, 25.0]     0.328467\n",
       "(25.0, 31.8]     0.393701\n",
       "(31.8, 41.0]     0.437500\n",
       "(41.0, 80.0]     0.373239\n",
       "Name: Survived, dtype: float64"
      ]
     },
     "execution_count": 18,
     "metadata": {},
     "output_type": "execute_result"
    }
   ],
   "source": [
    "train['Survived'].groupby(pd.qcut(train['Age'],5)).mean()"
   ]
  },
  {
   "cell_type": "code",
   "execution_count": 19,
   "metadata": {},
   "outputs": [
    {
     "data": {
      "text/plain": [
       "(0.419, 19.0]    164\n",
       "(31.8, 41.0]     144\n",
       "(41.0, 80.0]     142\n",
       "(19.0, 25.0]     137\n",
       "(25.0, 31.8]     127\n",
       "Name: Age, dtype: int64"
      ]
     },
     "execution_count": 19,
     "metadata": {},
     "output_type": "execute_result"
    }
   ],
   "source": [
    "pd.qcut(train['Age'],5).value_counts()"
   ]
  },
  {
   "cell_type": "markdown",
   "metadata": {},
   "source": [
    "###### SibSp"
   ]
  },
  {
   "cell_type": "code",
   "execution_count": 20,
   "metadata": {},
   "outputs": [
    {
     "data": {
      "text/plain": [
       "SibSp\n",
       "0    0.345395\n",
       "1    0.535885\n",
       "2    0.464286\n",
       "3    0.250000\n",
       "4    0.166667\n",
       "5    0.000000\n",
       "8    0.000000\n",
       "Name: Survived, dtype: float64"
      ]
     },
     "execution_count": 20,
     "metadata": {},
     "output_type": "execute_result"
    }
   ],
   "source": [
    "train['Survived'].groupby(train['SibSp']).mean()"
   ]
  },
  {
   "cell_type": "markdown",
   "metadata": {},
   "source": [
    "##### Parch"
   ]
  },
  {
   "cell_type": "code",
   "execution_count": 21,
   "metadata": {},
   "outputs": [
    {
     "data": {
      "text/plain": [
       "Parch\n",
       "0    0.343658\n",
       "1    0.550847\n",
       "2    0.500000\n",
       "3    0.600000\n",
       "4    0.000000\n",
       "5    0.200000\n",
       "6    0.000000\n",
       "Name: Survived, dtype: float64"
      ]
     },
     "execution_count": 21,
     "metadata": {},
     "output_type": "execute_result"
    }
   ],
   "source": [
    "train['Survived'].groupby(train['Parch']).mean()"
   ]
  },
  {
   "cell_type": "code",
   "execution_count": 22,
   "metadata": {},
   "outputs": [
    {
     "data": {
      "text/plain": [
       "0    678\n",
       "1    118\n",
       "2     80\n",
       "5      5\n",
       "3      5\n",
       "4      4\n",
       "6      1\n",
       "Name: Parch, dtype: int64"
      ]
     },
     "execution_count": 22,
     "metadata": {},
     "output_type": "execute_result"
    }
   ],
   "source": [
    "train['Parch'].value_counts()"
   ]
  },
  {
   "cell_type": "markdown",
   "metadata": {},
   "source": [
    "Note: when we have two weak predictors, we can combine them to get stronger predicter.\n",
    "\n",
    "```SibSp``` + ```Parch``` = ```FamilySize```"
   ]
  },
  {
   "cell_type": "markdown",
   "metadata": {},
   "source": [
    "##### Ticket"
   ]
  },
  {
   "cell_type": "code",
   "execution_count": 23,
   "metadata": {},
   "outputs": [
    {
     "data": {
      "text/plain": [
       "0           A/5 21171\n",
       "1            PC 17599\n",
       "2    STON/O2. 3101282\n",
       "3              113803\n",
       "4              373450\n",
       "5              330877\n",
       "6               17463\n",
       "7              349909\n",
       "8              347742\n",
       "9              237736\n",
       "Name: Ticket, dtype: object"
      ]
     },
     "execution_count": 23,
     "metadata": {},
     "output_type": "execute_result"
    }
   ],
   "source": [
    "train['Ticket'].head(n=10)"
   ]
  },
  {
   "cell_type": "markdown",
   "metadata": {},
   "source": [
    "Note: Type of tickets determines the room they probably resided in during the wreck and therefore their chance to escape from the room"
   ]
  },
  {
   "cell_type": "markdown",
   "metadata": {},
   "source": [
    "##### Fare"
   ]
  },
  {
   "cell_type": "code",
   "execution_count": 24,
   "metadata": {},
   "outputs": [
    {
     "data": {
      "text/plain": [
       "(-0.001, 8.662]    308\n",
       "(26.0, 512.329]    295\n",
       "(8.662, 26.0]      288\n",
       "Name: Fare, dtype: int64"
      ]
     },
     "execution_count": 24,
     "metadata": {},
     "output_type": "execute_result"
    }
   ],
   "source": [
    "pd.qcut(train['Fare'], 3).value_counts()"
   ]
  },
  {
   "cell_type": "code",
   "execution_count": 25,
   "metadata": {},
   "outputs": [
    {
     "data": {
      "text/plain": [
       "Fare\n",
       "(-0.001, 8.662]    0.198052\n",
       "(8.662, 26.0]      0.402778\n",
       "(26.0, 512.329]    0.559322\n",
       "Name: Survived, dtype: float64"
      ]
     },
     "execution_count": 25,
     "metadata": {},
     "output_type": "execute_result"
    }
   ],
   "source": [
    "train['Survived'].groupby(pd.qcut(train['Fare'], 3)).mean()"
   ]
  },
  {
   "cell_type": "code",
   "execution_count": 26,
   "metadata": {},
   "outputs": [
    {
     "data": {
      "text/html": [
       "<div>\n",
       "<style scoped>\n",
       "    .dataframe tbody tr th:only-of-type {\n",
       "        vertical-align: middle;\n",
       "    }\n",
       "\n",
       "    .dataframe tbody tr th {\n",
       "        vertical-align: top;\n",
       "    }\n",
       "\n",
       "    .dataframe thead th {\n",
       "        text-align: right;\n",
       "    }\n",
       "</style>\n",
       "<table border=\"1\" class=\"dataframe\">\n",
       "  <thead>\n",
       "    <tr style=\"text-align: right;\">\n",
       "      <th>Pclass</th>\n",
       "      <th>1</th>\n",
       "      <th>2</th>\n",
       "      <th>3</th>\n",
       "    </tr>\n",
       "    <tr>\n",
       "      <th>Fare</th>\n",
       "      <th></th>\n",
       "      <th></th>\n",
       "      <th></th>\n",
       "    </tr>\n",
       "  </thead>\n",
       "  <tbody>\n",
       "    <tr>\n",
       "      <th>(-0.001, 7.854]</th>\n",
       "      <td>6</td>\n",
       "      <td>6</td>\n",
       "      <td>167</td>\n",
       "    </tr>\n",
       "    <tr>\n",
       "      <th>(7.854, 10.5]</th>\n",
       "      <td>0</td>\n",
       "      <td>24</td>\n",
       "      <td>160</td>\n",
       "    </tr>\n",
       "    <tr>\n",
       "      <th>(10.5, 21.679]</th>\n",
       "      <td>0</td>\n",
       "      <td>80</td>\n",
       "      <td>92</td>\n",
       "    </tr>\n",
       "    <tr>\n",
       "      <th>(21.679, 39.688]</th>\n",
       "      <td>64</td>\n",
       "      <td>64</td>\n",
       "      <td>52</td>\n",
       "    </tr>\n",
       "    <tr>\n",
       "      <th>(39.688, 512.329]</th>\n",
       "      <td>146</td>\n",
       "      <td>10</td>\n",
       "      <td>20</td>\n",
       "    </tr>\n",
       "  </tbody>\n",
       "</table>\n",
       "</div>"
      ],
      "text/plain": [
       "Pclass               1   2    3\n",
       "Fare                           \n",
       "(-0.001, 7.854]      6   6  167\n",
       "(7.854, 10.5]        0  24  160\n",
       "(10.5, 21.679]       0  80   92\n",
       "(21.679, 39.688]    64  64   52\n",
       "(39.688, 512.329]  146  10   20"
      ]
     },
     "execution_count": 26,
     "metadata": {},
     "output_type": "execute_result"
    }
   ],
   "source": [
    "pd.crosstab(pd.qcut(train['Fare'], 5), columns=train['Pclass'])"
   ]
  },
  {
   "cell_type": "markdown",
   "metadata": {},
   "source": [
    "##### Embarked"
   ]
  },
  {
   "cell_type": "code",
   "execution_count": 27,
   "metadata": {},
   "outputs": [
    {
     "data": {
      "text/plain": [
       "S    644\n",
       "C    168\n",
       "Q     77\n",
       "Name: Embarked, dtype: int64"
      ]
     },
     "execution_count": 27,
     "metadata": {},
     "output_type": "execute_result"
    }
   ],
   "source": [
    "train['Embarked'].value_counts()"
   ]
  },
  {
   "cell_type": "code",
   "execution_count": 28,
   "metadata": {},
   "outputs": [
    {
     "data": {
      "text/plain": [
       "S    0.724409\n",
       "C    0.188976\n",
       "Q    0.086614\n",
       "Name: Embarked, dtype: float64"
      ]
     },
     "execution_count": 28,
     "metadata": {},
     "output_type": "execute_result"
    }
   ],
   "source": [
    "train['Embarked'].value_counts(normalize=True)"
   ]
  },
  {
   "cell_type": "code",
   "execution_count": 29,
   "metadata": {},
   "outputs": [
    {
     "data": {
      "text/plain": [
       "Embarked\n",
       "C    0.553571\n",
       "Q    0.389610\n",
       "S    0.336957\n",
       "Name: Survived, dtype: float64"
      ]
     },
     "execution_count": 29,
     "metadata": {},
     "output_type": "execute_result"
    }
   ],
   "source": [
    "train['Survived'].groupby(train['Embarked']).mean()"
   ]
  },
  {
   "cell_type": "code",
   "execution_count": 30,
   "metadata": {},
   "outputs": [
    {
     "data": {
      "text/plain": [
       "<AxesSubplot:xlabel='Embarked', ylabel='count'>"
      ]
     },
     "execution_count": 30,
     "metadata": {},
     "output_type": "execute_result"
    },
    {
     "data": {
      "image/png": "[encoded data removed]",
      "text/plain": [
       "<Figure size 432x288 with 1 Axes>"
      ]
     },
     "metadata": {
      "needs_background": "light"
     },
     "output_type": "display_data"
    }
   ],
   "source": [
    "sns.countplot(x=train['Embarked'], hue=train['Pclass'])"
   ]
  },
  {
   "cell_type": "markdown",
   "metadata": {},
   "source": [
    "### Preprocessing"
   ]
  },
  {
   "cell_type": "code",
   "execution_count": 31,
   "metadata": {},
   "outputs": [
    {
     "data": {
      "text/html": [
       "<div>\n",
       "<style scoped>\n",
       "    .dataframe tbody tr th:only-of-type {\n",
       "        vertical-align: middle;\n",
       "    }\n",
       "\n",
       "    .dataframe tbody tr th {\n",
       "        vertical-align: top;\n",
       "    }\n",
       "\n",
       "    .dataframe thead th {\n",
       "        text-align: right;\n",
       "    }\n",
       "</style>\n",
       "<table border=\"1\" class=\"dataframe\">\n",
       "  <thead>\n",
       "    <tr style=\"text-align: right;\">\n",
       "      <th></th>\n",
       "      <th>PassengerId</th>\n",
       "      <th>Survived</th>\n",
       "      <th>Pclass</th>\n",
       "      <th>Name</th>\n",
       "      <th>Sex</th>\n",
       "      <th>Age</th>\n",
       "      <th>SibSp</th>\n",
       "      <th>Parch</th>\n",
       "      <th>Ticket</th>\n",
       "      <th>Fare</th>\n",
       "      <th>Cabin</th>\n",
       "      <th>Embarked</th>\n",
       "    </tr>\n",
       "  </thead>\n",
       "  <tbody>\n",
       "    <tr>\n",
       "      <th>0</th>\n",
       "      <td>1</td>\n",
       "      <td>0</td>\n",
       "      <td>3</td>\n",
       "      <td>Braund, Mr. Owen Harris</td>\n",
       "      <td>male</td>\n",
       "      <td>22.0</td>\n",
       "      <td>1</td>\n",
       "      <td>0</td>\n",
       "      <td>A/5 21171</td>\n",
       "      <td>7.2500</td>\n",
       "      <td>NaN</td>\n",
       "      <td>S</td>\n",
       "    </tr>\n",
       "    <tr>\n",
       "      <th>1</th>\n",
       "      <td>2</td>\n",
       "      <td>1</td>\n",
       "      <td>1</td>\n",
       "      <td>Cumings, Mrs. John Bradley (Florence Briggs Th...</td>\n",
       "      <td>female</td>\n",
       "      <td>38.0</td>\n",
       "      <td>1</td>\n",
       "      <td>0</td>\n",
       "      <td>PC 17599</td>\n",
       "      <td>71.2833</td>\n",
       "      <td>C85</td>\n",
       "      <td>C</td>\n",
       "    </tr>\n",
       "    <tr>\n",
       "      <th>2</th>\n",
       "      <td>3</td>\n",
       "      <td>1</td>\n",
       "      <td>3</td>\n",
       "      <td>Heikkinen, Miss. Laina</td>\n",
       "      <td>female</td>\n",
       "      <td>26.0</td>\n",
       "      <td>0</td>\n",
       "      <td>0</td>\n",
       "      <td>STON/O2. 3101282</td>\n",
       "      <td>7.9250</td>\n",
       "      <td>NaN</td>\n",
       "      <td>S</td>\n",
       "    </tr>\n",
       "    <tr>\n",
       "      <th>3</th>\n",
       "      <td>4</td>\n",
       "      <td>1</td>\n",
       "      <td>1</td>\n",
       "      <td>Futrelle, Mrs. Jacques Heath (Lily May Peel)</td>\n",
       "      <td>female</td>\n",
       "      <td>35.0</td>\n",
       "      <td>1</td>\n",
       "      <td>0</td>\n",
       "      <td>113803</td>\n",
       "      <td>53.1000</td>\n",
       "      <td>C123</td>\n",
       "      <td>S</td>\n",
       "    </tr>\n",
       "    <tr>\n",
       "      <th>4</th>\n",
       "      <td>5</td>\n",
       "      <td>0</td>\n",
       "      <td>3</td>\n",
       "      <td>Allen, Mr. William Henry</td>\n",
       "      <td>male</td>\n",
       "      <td>35.0</td>\n",
       "      <td>0</td>\n",
       "      <td>0</td>\n",
       "      <td>373450</td>\n",
       "      <td>8.0500</td>\n",
       "      <td>NaN</td>\n",
       "      <td>S</td>\n",
       "    </tr>\n",
       "  </tbody>\n",
       "</table>\n",
       "</div>"
      ],
      "text/plain": [
       "   PassengerId  Survived  Pclass  \\\n",
       "0            1         0       3   \n",
       "1            2         1       1   \n",
       "2            3         1       3   \n",
       "3            4         1       1   \n",
       "4            5         0       3   \n",
       "\n",
       "                                                Name     Sex   Age  SibSp  \\\n",
       "0                            Braund, Mr. Owen Harris    male  22.0      1   \n",
       "1  Cumings, Mrs. John Bradley (Florence Briggs Th...  female  38.0      1   \n",
       "2                             Heikkinen, Miss. Laina  female  26.0      0   \n",
       "3       Futrelle, Mrs. Jacques Heath (Lily May Peel)  female  35.0      1   \n",
       "4                           Allen, Mr. William Henry    male  35.0      0   \n",
       "\n",
       "   Parch            Ticket     Fare Cabin Embarked  \n",
       "0      0         A/5 21171   7.2500   NaN        S  \n",
       "1      0          PC 17599  71.2833   C85        C  \n",
       "2      0  STON/O2. 3101282   7.9250   NaN        S  \n",
       "3      0            113803  53.1000  C123        S  \n",
       "4      0            373450   8.0500   NaN        S  "
      ]
     },
     "execution_count": 31,
     "metadata": {},
     "output_type": "execute_result"
    }
   ],
   "source": [
    "train.head()"
   ]
  },
  {
   "cell_type": "markdown",
   "metadata": {},
   "source": [
    "##### Names\n",
    "\n",
    "1. Extract length"
   ]
  },
  {
   "cell_type": "code",
   "execution_count": 32,
   "metadata": {},
   "outputs": [],
   "source": [
    "train = to_length(train, 'Name', 'Name_Len', False)\n",
    "test = to_length(test, 'Name', 'Name_Len', False)"
   ]
  },
  {
   "cell_type": "markdown",
   "metadata": {},
   "source": [
    "2. Extract title"
   ]
  },
  {
   "cell_type": "code",
   "execution_count": 33,
   "metadata": {},
   "outputs": [],
   "source": [
    "train = to(train, 'Name', 'Name_Title', lambda x: (x.split(',')[1]).split()[0], True)\n",
    "test = to(test, 'Name', 'Name_Title', lambda x: (x.split(',')[1]).split()[0], True)"
   ]
  },
  {
   "cell_type": "code",
   "execution_count": 34,
   "metadata": {},
   "outputs": [
    {
     "data": {
      "text/html": [
       "<div>\n",
       "<style scoped>\n",
       "    .dataframe tbody tr th:only-of-type {\n",
       "        vertical-align: middle;\n",
       "    }\n",
       "\n",
       "    .dataframe tbody tr th {\n",
       "        vertical-align: top;\n",
       "    }\n",
       "\n",
       "    .dataframe thead th {\n",
       "        text-align: right;\n",
       "    }\n",
       "</style>\n",
       "<table border=\"1\" class=\"dataframe\">\n",
       "  <thead>\n",
       "    <tr style=\"text-align: right;\">\n",
       "      <th></th>\n",
       "      <th>PassengerId</th>\n",
       "      <th>Survived</th>\n",
       "      <th>Pclass</th>\n",
       "      <th>Sex</th>\n",
       "      <th>Age</th>\n",
       "      <th>SibSp</th>\n",
       "      <th>Parch</th>\n",
       "      <th>Ticket</th>\n",
       "      <th>Fare</th>\n",
       "      <th>Cabin</th>\n",
       "      <th>Embarked</th>\n",
       "      <th>Name_Len</th>\n",
       "      <th>Name_Title</th>\n",
       "    </tr>\n",
       "  </thead>\n",
       "  <tbody>\n",
       "    <tr>\n",
       "      <th>0</th>\n",
       "      <td>1</td>\n",
       "      <td>0</td>\n",
       "      <td>3</td>\n",
       "      <td>male</td>\n",
       "      <td>22.0</td>\n",
       "      <td>1</td>\n",
       "      <td>0</td>\n",
       "      <td>A/5 21171</td>\n",
       "      <td>7.2500</td>\n",
       "      <td>NaN</td>\n",
       "      <td>S</td>\n",
       "      <td>23</td>\n",
       "      <td>Mr.</td>\n",
       "    </tr>\n",
       "    <tr>\n",
       "      <th>1</th>\n",
       "      <td>2</td>\n",
       "      <td>1</td>\n",
       "      <td>1</td>\n",
       "      <td>female</td>\n",
       "      <td>38.0</td>\n",
       "      <td>1</td>\n",
       "      <td>0</td>\n",
       "      <td>PC 17599</td>\n",
       "      <td>71.2833</td>\n",
       "      <td>C85</td>\n",
       "      <td>C</td>\n",
       "      <td>51</td>\n",
       "      <td>Mrs.</td>\n",
       "    </tr>\n",
       "    <tr>\n",
       "      <th>2</th>\n",
       "      <td>3</td>\n",
       "      <td>1</td>\n",
       "      <td>3</td>\n",
       "      <td>female</td>\n",
       "      <td>26.0</td>\n",
       "      <td>0</td>\n",
       "      <td>0</td>\n",
       "      <td>STON/O2. 3101282</td>\n",
       "      <td>7.9250</td>\n",
       "      <td>NaN</td>\n",
       "      <td>S</td>\n",
       "      <td>22</td>\n",
       "      <td>Miss.</td>\n",
       "    </tr>\n",
       "    <tr>\n",
       "      <th>3</th>\n",
       "      <td>4</td>\n",
       "      <td>1</td>\n",
       "      <td>1</td>\n",
       "      <td>female</td>\n",
       "      <td>35.0</td>\n",
       "      <td>1</td>\n",
       "      <td>0</td>\n",
       "      <td>113803</td>\n",
       "      <td>53.1000</td>\n",
       "      <td>C123</td>\n",
       "      <td>S</td>\n",
       "      <td>44</td>\n",
       "      <td>Mrs.</td>\n",
       "    </tr>\n",
       "    <tr>\n",
       "      <th>4</th>\n",
       "      <td>5</td>\n",
       "      <td>0</td>\n",
       "      <td>3</td>\n",
       "      <td>male</td>\n",
       "      <td>35.0</td>\n",
       "      <td>0</td>\n",
       "      <td>0</td>\n",
       "      <td>373450</td>\n",
       "      <td>8.0500</td>\n",
       "      <td>NaN</td>\n",
       "      <td>S</td>\n",
       "      <td>24</td>\n",
       "      <td>Mr.</td>\n",
       "    </tr>\n",
       "  </tbody>\n",
       "</table>\n",
       "</div>"
      ],
      "text/plain": [
       "   PassengerId  Survived  Pclass     Sex   Age  SibSp  Parch  \\\n",
       "0            1         0       3    male  22.0      1      0   \n",
       "1            2         1       1  female  38.0      1      0   \n",
       "2            3         1       3  female  26.0      0      0   \n",
       "3            4         1       1  female  35.0      1      0   \n",
       "4            5         0       3    male  35.0      0      0   \n",
       "\n",
       "             Ticket     Fare Cabin Embarked  Name_Len Name_Title  \n",
       "0         A/5 21171   7.2500   NaN        S        23        Mr.  \n",
       "1          PC 17599  71.2833   C85        C        51       Mrs.  \n",
       "2  STON/O2. 3101282   7.9250   NaN        S        22      Miss.  \n",
       "3            113803  53.1000  C123        S        44       Mrs.  \n",
       "4            373450   8.0500   NaN        S        24        Mr.  "
      ]
     },
     "execution_count": 34,
     "metadata": {},
     "output_type": "execute_result"
    }
   ],
   "source": [
    "train.head()"
   ]
  },
  {
   "cell_type": "markdown",
   "metadata": {},
   "source": [
    "##### Age\n",
    "\n",
    "1. Add record to check nullity"
   ]
  },
  {
   "cell_type": "code",
   "execution_count": 35,
   "metadata": {},
   "outputs": [],
   "source": [
    "train = to_isnull(train, 'Age', 'Age_Null_Flag')\n",
    "test = to_isnull(test, 'Age', 'Age_Null_Flag')"
   ]
  },
  {
   "cell_type": "markdown",
   "metadata": {},
   "source": [
    "2. Fill NaN by average over group"
   ]
  },
  {
   "cell_type": "code",
   "execution_count": 36,
   "metadata": {},
   "outputs": [],
   "source": [
    "train, group = to_fill_by_group(train, \"Age\", \"Age\", \n",
    "                         [\"Name_Title\", \"Pclass\"],\n",
    "                         method=\"mean\")\n",
    "test, _ = to_fill_by_group(test, \"Age\", \"Age\", \n",
    "                         [\"Name_Title\", \"Pclass\"],\n",
    "                         method=\"mean\", group_data=group)"
   ]
  },
  {
   "cell_type": "code",
   "execution_count": 37,
   "metadata": {},
   "outputs": [
    {
     "data": {
      "text/html": [
       "<div>\n",
       "<style scoped>\n",
       "    .dataframe tbody tr th:only-of-type {\n",
       "        vertical-align: middle;\n",
       "    }\n",
       "\n",
       "    .dataframe tbody tr th {\n",
       "        vertical-align: top;\n",
       "    }\n",
       "\n",
       "    .dataframe thead th {\n",
       "        text-align: right;\n",
       "    }\n",
       "</style>\n",
       "<table border=\"1\" class=\"dataframe\">\n",
       "  <thead>\n",
       "    <tr style=\"text-align: right;\">\n",
       "      <th></th>\n",
       "      <th>PassengerId</th>\n",
       "      <th>Survived</th>\n",
       "      <th>Pclass</th>\n",
       "      <th>Sex</th>\n",
       "      <th>Age</th>\n",
       "      <th>SibSp</th>\n",
       "      <th>Parch</th>\n",
       "      <th>Ticket</th>\n",
       "      <th>Fare</th>\n",
       "      <th>Cabin</th>\n",
       "      <th>Embarked</th>\n",
       "      <th>Name_Len</th>\n",
       "      <th>Name_Title</th>\n",
       "      <th>Age_Null_Flag</th>\n",
       "    </tr>\n",
       "  </thead>\n",
       "  <tbody>\n",
       "    <tr>\n",
       "      <th>0</th>\n",
       "      <td>1</td>\n",
       "      <td>0</td>\n",
       "      <td>3</td>\n",
       "      <td>male</td>\n",
       "      <td>22.0</td>\n",
       "      <td>1</td>\n",
       "      <td>0</td>\n",
       "      <td>A/5 21171</td>\n",
       "      <td>7.2500</td>\n",
       "      <td>NaN</td>\n",
       "      <td>S</td>\n",
       "      <td>23</td>\n",
       "      <td>Mr.</td>\n",
       "      <td>0</td>\n",
       "    </tr>\n",
       "    <tr>\n",
       "      <th>1</th>\n",
       "      <td>2</td>\n",
       "      <td>1</td>\n",
       "      <td>1</td>\n",
       "      <td>female</td>\n",
       "      <td>38.0</td>\n",
       "      <td>1</td>\n",
       "      <td>0</td>\n",
       "      <td>PC 17599</td>\n",
       "      <td>71.2833</td>\n",
       "      <td>C85</td>\n",
       "      <td>C</td>\n",
       "      <td>51</td>\n",
       "      <td>Mrs.</td>\n",
       "      <td>0</td>\n",
       "    </tr>\n",
       "    <tr>\n",
       "      <th>2</th>\n",
       "      <td>3</td>\n",
       "      <td>1</td>\n",
       "      <td>3</td>\n",
       "      <td>female</td>\n",
       "      <td>26.0</td>\n",
       "      <td>0</td>\n",
       "      <td>0</td>\n",
       "      <td>STON/O2. 3101282</td>\n",
       "      <td>7.9250</td>\n",
       "      <td>NaN</td>\n",
       "      <td>S</td>\n",
       "      <td>22</td>\n",
       "      <td>Miss.</td>\n",
       "      <td>0</td>\n",
       "    </tr>\n",
       "    <tr>\n",
       "      <th>3</th>\n",
       "      <td>4</td>\n",
       "      <td>1</td>\n",
       "      <td>1</td>\n",
       "      <td>female</td>\n",
       "      <td>35.0</td>\n",
       "      <td>1</td>\n",
       "      <td>0</td>\n",
       "      <td>113803</td>\n",
       "      <td>53.1000</td>\n",
       "      <td>C123</td>\n",
       "      <td>S</td>\n",
       "      <td>44</td>\n",
       "      <td>Mrs.</td>\n",
       "      <td>0</td>\n",
       "    </tr>\n",
       "    <tr>\n",
       "      <th>4</th>\n",
       "      <td>5</td>\n",
       "      <td>0</td>\n",
       "      <td>3</td>\n",
       "      <td>male</td>\n",
       "      <td>35.0</td>\n",
       "      <td>0</td>\n",
       "      <td>0</td>\n",
       "      <td>373450</td>\n",
       "      <td>8.0500</td>\n",
       "      <td>NaN</td>\n",
       "      <td>S</td>\n",
       "      <td>24</td>\n",
       "      <td>Mr.</td>\n",
       "      <td>0</td>\n",
       "    </tr>\n",
       "  </tbody>\n",
       "</table>\n",
       "</div>"
      ],
      "text/plain": [
       "   PassengerId  Survived  Pclass     Sex   Age  SibSp  Parch  \\\n",
       "0            1         0       3    male  22.0      1      0   \n",
       "1            2         1       1  female  38.0      1      0   \n",
       "2            3         1       3  female  26.0      0      0   \n",
       "3            4         1       1  female  35.0      1      0   \n",
       "4            5         0       3    male  35.0      0      0   \n",
       "\n",
       "             Ticket     Fare Cabin Embarked  Name_Len Name_Title  \\\n",
       "0         A/5 21171   7.2500   NaN        S        23        Mr.   \n",
       "1          PC 17599  71.2833   C85        C        51       Mrs.   \n",
       "2  STON/O2. 3101282   7.9250   NaN        S        22      Miss.   \n",
       "3            113803  53.1000  C123        S        44       Mrs.   \n",
       "4            373450   8.0500   NaN        S        24        Mr.   \n",
       "\n",
       "   Age_Null_Flag  \n",
       "0              0  \n",
       "1              0  \n",
       "2              0  \n",
       "3              0  \n",
       "4              0  "
      ]
     },
     "execution_count": 37,
     "metadata": {},
     "output_type": "execute_result"
    }
   ],
   "source": [
    "train.head()"
   ]
  },
  {
   "cell_type": "markdown",
   "metadata": {},
   "source": [
    "##### Family Size\n",
    "\n",
    "1. Create categorical values for family size from columns"
   ]
  },
  {
   "cell_type": "code",
   "execution_count": 38,
   "metadata": {},
   "outputs": [],
   "source": [
    "train = to(train, ['SibSp', 'Parch'], 'Fam_Size', lambda x: np.where((x[0] + x[1]) == 0 , 'Solo', np.where((x[0] + x[1]) <= 3,'Nuclear', 'Big')), True)\n",
    "test = to(test, ['SibSp', 'Parch'], 'Fam_Size', lambda x: np.where((x[0] + x[1]) == 0 , 'Solo', np.where((x[0] + x[1]) <= 3,'Nuclear', 'Big')), True)"
   ]
  },
  {
   "cell_type": "code",
   "execution_count": 39,
   "metadata": {},
   "outputs": [
    {
     "data": {
      "text/html": [
       "<div>\n",
       "<style scoped>\n",
       "    .dataframe tbody tr th:only-of-type {\n",
       "        vertical-align: middle;\n",
       "    }\n",
       "\n",
       "    .dataframe tbody tr th {\n",
       "        vertical-align: top;\n",
       "    }\n",
       "\n",
       "    .dataframe thead th {\n",
       "        text-align: right;\n",
       "    }\n",
       "</style>\n",
       "<table border=\"1\" class=\"dataframe\">\n",
       "  <thead>\n",
       "    <tr style=\"text-align: right;\">\n",
       "      <th></th>\n",
       "      <th>PassengerId</th>\n",
       "      <th>Survived</th>\n",
       "      <th>Pclass</th>\n",
       "      <th>Sex</th>\n",
       "      <th>Age</th>\n",
       "      <th>Ticket</th>\n",
       "      <th>Fare</th>\n",
       "      <th>Cabin</th>\n",
       "      <th>Embarked</th>\n",
       "      <th>Name_Len</th>\n",
       "      <th>Name_Title</th>\n",
       "      <th>Age_Null_Flag</th>\n",
       "      <th>Fam_Size</th>\n",
       "    </tr>\n",
       "  </thead>\n",
       "  <tbody>\n",
       "    <tr>\n",
       "      <th>0</th>\n",
       "      <td>1</td>\n",
       "      <td>0</td>\n",
       "      <td>3</td>\n",
       "      <td>male</td>\n",
       "      <td>22.0</td>\n",
       "      <td>A/5 21171</td>\n",
       "      <td>7.2500</td>\n",
       "      <td>NaN</td>\n",
       "      <td>S</td>\n",
       "      <td>23</td>\n",
       "      <td>Mr.</td>\n",
       "      <td>0</td>\n",
       "      <td>Nuclear</td>\n",
       "    </tr>\n",
       "    <tr>\n",
       "      <th>1</th>\n",
       "      <td>2</td>\n",
       "      <td>1</td>\n",
       "      <td>1</td>\n",
       "      <td>female</td>\n",
       "      <td>38.0</td>\n",
       "      <td>PC 17599</td>\n",
       "      <td>71.2833</td>\n",
       "      <td>C85</td>\n",
       "      <td>C</td>\n",
       "      <td>51</td>\n",
       "      <td>Mrs.</td>\n",
       "      <td>0</td>\n",
       "      <td>Nuclear</td>\n",
       "    </tr>\n",
       "    <tr>\n",
       "      <th>2</th>\n",
       "      <td>3</td>\n",
       "      <td>1</td>\n",
       "      <td>3</td>\n",
       "      <td>female</td>\n",
       "      <td>26.0</td>\n",
       "      <td>STON/O2. 3101282</td>\n",
       "      <td>7.9250</td>\n",
       "      <td>NaN</td>\n",
       "      <td>S</td>\n",
       "      <td>22</td>\n",
       "      <td>Miss.</td>\n",
       "      <td>0</td>\n",
       "      <td>Solo</td>\n",
       "    </tr>\n",
       "    <tr>\n",
       "      <th>3</th>\n",
       "      <td>4</td>\n",
       "      <td>1</td>\n",
       "      <td>1</td>\n",
       "      <td>female</td>\n",
       "      <td>35.0</td>\n",
       "      <td>113803</td>\n",
       "      <td>53.1000</td>\n",
       "      <td>C123</td>\n",
       "      <td>S</td>\n",
       "      <td>44</td>\n",
       "      <td>Mrs.</td>\n",
       "      <td>0</td>\n",
       "      <td>Nuclear</td>\n",
       "    </tr>\n",
       "    <tr>\n",
       "      <th>4</th>\n",
       "      <td>5</td>\n",
       "      <td>0</td>\n",
       "      <td>3</td>\n",
       "      <td>male</td>\n",
       "      <td>35.0</td>\n",
       "      <td>373450</td>\n",
       "      <td>8.0500</td>\n",
       "      <td>NaN</td>\n",
       "      <td>S</td>\n",
       "      <td>24</td>\n",
       "      <td>Mr.</td>\n",
       "      <td>0</td>\n",
       "      <td>Solo</td>\n",
       "    </tr>\n",
       "  </tbody>\n",
       "</table>\n",
       "</div>"
      ],
      "text/plain": [
       "   PassengerId  Survived  Pclass     Sex   Age            Ticket     Fare  \\\n",
       "0            1         0       3    male  22.0         A/5 21171   7.2500   \n",
       "1            2         1       1  female  38.0          PC 17599  71.2833   \n",
       "2            3         1       3  female  26.0  STON/O2. 3101282   7.9250   \n",
       "3            4         1       1  female  35.0            113803  53.1000   \n",
       "4            5         0       3    male  35.0            373450   8.0500   \n",
       "\n",
       "  Cabin Embarked  Name_Len Name_Title  Age_Null_Flag Fam_Size  \n",
       "0   NaN        S        23        Mr.              0  Nuclear  \n",
       "1   C85        C        51       Mrs.              0  Nuclear  \n",
       "2   NaN        S        22      Miss.              0     Solo  \n",
       "3  C123        S        44       Mrs.              0  Nuclear  \n",
       "4   NaN        S        24        Mr.              0     Solo  "
      ]
     },
     "execution_count": 39,
     "metadata": {},
     "output_type": "execute_result"
    }
   ],
   "source": [
    "train.head()"
   ]
  },
  {
   "cell_type": "markdown",
   "metadata": {},
   "source": [
    "##### Ticket\n",
    "\n",
    "1. extract letter "
   ]
  },
  {
   "cell_type": "code",
   "execution_count": 40,
   "metadata": {},
   "outputs": [],
   "source": [
    "train = to(train, 'Ticket', 'Ticket_Lett', lambda x: str(x)[0], False)\n",
    "test = to(test, 'Ticket', 'Ticket_Lett', lambda x: str(x)[0], False)"
   ]
  },
  {
   "cell_type": "markdown",
   "metadata": {},
   "source": [
    "2. convert to string"
   ]
  },
  {
   "cell_type": "code",
   "execution_count": 41,
   "metadata": {},
   "outputs": [],
   "source": [
    "train = to(train, 'Ticket_Lett', 'Ticket_Lett', lambda x: str(x), False)\n",
    "test = to(test, 'Ticket_Lett', 'Ticket_Lett', lambda x: str(x), False)"
   ]
  },
  {
   "cell_type": "code",
   "execution_count": 42,
   "metadata": {},
   "outputs": [
    {
     "data": {
      "text/html": [
       "<div>\n",
       "<style scoped>\n",
       "    .dataframe tbody tr th:only-of-type {\n",
       "        vertical-align: middle;\n",
       "    }\n",
       "\n",
       "    .dataframe tbody tr th {\n",
       "        vertical-align: top;\n",
       "    }\n",
       "\n",
       "    .dataframe thead th {\n",
       "        text-align: right;\n",
       "    }\n",
       "</style>\n",
       "<table border=\"1\" class=\"dataframe\">\n",
       "  <thead>\n",
       "    <tr style=\"text-align: right;\">\n",
       "      <th></th>\n",
       "      <th>PassengerId</th>\n",
       "      <th>Survived</th>\n",
       "      <th>Pclass</th>\n",
       "      <th>Sex</th>\n",
       "      <th>Age</th>\n",
       "      <th>Ticket</th>\n",
       "      <th>Fare</th>\n",
       "      <th>Cabin</th>\n",
       "      <th>Embarked</th>\n",
       "      <th>Name_Len</th>\n",
       "      <th>Name_Title</th>\n",
       "      <th>Age_Null_Flag</th>\n",
       "      <th>Fam_Size</th>\n",
       "      <th>Ticket_Lett</th>\n",
       "    </tr>\n",
       "  </thead>\n",
       "  <tbody>\n",
       "    <tr>\n",
       "      <th>0</th>\n",
       "      <td>1</td>\n",
       "      <td>0</td>\n",
       "      <td>3</td>\n",
       "      <td>male</td>\n",
       "      <td>22.0</td>\n",
       "      <td>A/5 21171</td>\n",
       "      <td>7.2500</td>\n",
       "      <td>NaN</td>\n",
       "      <td>S</td>\n",
       "      <td>23</td>\n",
       "      <td>Mr.</td>\n",
       "      <td>0</td>\n",
       "      <td>Nuclear</td>\n",
       "      <td>A</td>\n",
       "    </tr>\n",
       "    <tr>\n",
       "      <th>1</th>\n",
       "      <td>2</td>\n",
       "      <td>1</td>\n",
       "      <td>1</td>\n",
       "      <td>female</td>\n",
       "      <td>38.0</td>\n",
       "      <td>PC 17599</td>\n",
       "      <td>71.2833</td>\n",
       "      <td>C85</td>\n",
       "      <td>C</td>\n",
       "      <td>51</td>\n",
       "      <td>Mrs.</td>\n",
       "      <td>0</td>\n",
       "      <td>Nuclear</td>\n",
       "      <td>P</td>\n",
       "    </tr>\n",
       "    <tr>\n",
       "      <th>2</th>\n",
       "      <td>3</td>\n",
       "      <td>1</td>\n",
       "      <td>3</td>\n",
       "      <td>female</td>\n",
       "      <td>26.0</td>\n",
       "      <td>STON/O2. 3101282</td>\n",
       "      <td>7.9250</td>\n",
       "      <td>NaN</td>\n",
       "      <td>S</td>\n",
       "      <td>22</td>\n",
       "      <td>Miss.</td>\n",
       "      <td>0</td>\n",
       "      <td>Solo</td>\n",
       "      <td>S</td>\n",
       "    </tr>\n",
       "    <tr>\n",
       "      <th>3</th>\n",
       "      <td>4</td>\n",
       "      <td>1</td>\n",
       "      <td>1</td>\n",
       "      <td>female</td>\n",
       "      <td>35.0</td>\n",
       "      <td>113803</td>\n",
       "      <td>53.1000</td>\n",
       "      <td>C123</td>\n",
       "      <td>S</td>\n",
       "      <td>44</td>\n",
       "      <td>Mrs.</td>\n",
       "      <td>0</td>\n",
       "      <td>Nuclear</td>\n",
       "      <td>1</td>\n",
       "    </tr>\n",
       "    <tr>\n",
       "      <th>4</th>\n",
       "      <td>5</td>\n",
       "      <td>0</td>\n",
       "      <td>3</td>\n",
       "      <td>male</td>\n",
       "      <td>35.0</td>\n",
       "      <td>373450</td>\n",
       "      <td>8.0500</td>\n",
       "      <td>NaN</td>\n",
       "      <td>S</td>\n",
       "      <td>24</td>\n",
       "      <td>Mr.</td>\n",
       "      <td>0</td>\n",
       "      <td>Solo</td>\n",
       "      <td>3</td>\n",
       "    </tr>\n",
       "  </tbody>\n",
       "</table>\n",
       "</div>"
      ],
      "text/plain": [
       "   PassengerId  Survived  Pclass     Sex   Age            Ticket     Fare  \\\n",
       "0            1         0       3    male  22.0         A/5 21171   7.2500   \n",
       "1            2         1       1  female  38.0          PC 17599  71.2833   \n",
       "2            3         1       3  female  26.0  STON/O2. 3101282   7.9250   \n",
       "3            4         1       1  female  35.0            113803  53.1000   \n",
       "4            5         0       3    male  35.0            373450   8.0500   \n",
       "\n",
       "  Cabin Embarked  Name_Len Name_Title  Age_Null_Flag Fam_Size Ticket_Lett  \n",
       "0   NaN        S        23        Mr.              0  Nuclear           A  \n",
       "1   C85        C        51       Mrs.              0  Nuclear           P  \n",
       "2   NaN        S        22      Miss.              0     Solo           S  \n",
       "3  C123        S        44       Mrs.              0  Nuclear           1  \n",
       "4   NaN        S        24        Mr.              0     Solo           3  "
      ]
     },
     "execution_count": 42,
     "metadata": {},
     "output_type": "execute_result"
    }
   ],
   "source": [
    "train.head()"
   ]
  },
  {
   "cell_type": "markdown",
   "metadata": {},
   "source": [
    "3. map to values"
   ]
  },
  {
   "cell_type": "code",
   "execution_count": 43,
   "metadata": {},
   "outputs": [],
   "source": [
    "train = to(train, 'Ticket_Lett', 'Ticket_Lett', lambda x: np.where(x in ['1', '2', '3', 'S', 'P', 'C', 'A'], x, np.where(x in ['W', '4', '7', '6', 'L', '5', '8'], 'Low_ticket', 'Other_ticket')), False)\n",
    "test = to(test, 'Ticket_Lett', 'Ticket_Lett', lambda x: np.where(x in ['1', '2', '3', 'S', 'P', 'C', 'A'], x, np.where(x in ['W', '4', '7', '6', 'L', '5', '8'], 'Low_ticket', 'Other_ticket')), False)"
   ]
  },
  {
   "cell_type": "markdown",
   "metadata": {},
   "source": [
    "4. get ticket length"
   ]
  },
  {
   "cell_type": "code",
   "execution_count": 44,
   "metadata": {},
   "outputs": [],
   "source": [
    "train = to_length(train, 'Ticket', 'Ticket_Len', True)\n",
    "test = to_length(test, 'Ticket', 'Ticket_Len', True)"
   ]
  },
  {
   "cell_type": "code",
   "execution_count": 45,
   "metadata": {},
   "outputs": [
    {
     "data": {
      "text/html": [
       "<div>\n",
       "<style scoped>\n",
       "    .dataframe tbody tr th:only-of-type {\n",
       "        vertical-align: middle;\n",
       "    }\n",
       "\n",
       "    .dataframe tbody tr th {\n",
       "        vertical-align: top;\n",
       "    }\n",
       "\n",
       "    .dataframe thead th {\n",
       "        text-align: right;\n",
       "    }\n",
       "</style>\n",
       "<table border=\"1\" class=\"dataframe\">\n",
       "  <thead>\n",
       "    <tr style=\"text-align: right;\">\n",
       "      <th></th>\n",
       "      <th>PassengerId</th>\n",
       "      <th>Survived</th>\n",
       "      <th>Pclass</th>\n",
       "      <th>Sex</th>\n",
       "      <th>Age</th>\n",
       "      <th>Fare</th>\n",
       "      <th>Cabin</th>\n",
       "      <th>Embarked</th>\n",
       "      <th>Name_Len</th>\n",
       "      <th>Name_Title</th>\n",
       "      <th>Age_Null_Flag</th>\n",
       "      <th>Fam_Size</th>\n",
       "      <th>Ticket_Lett</th>\n",
       "      <th>Ticket_Len</th>\n",
       "    </tr>\n",
       "  </thead>\n",
       "  <tbody>\n",
       "    <tr>\n",
       "      <th>0</th>\n",
       "      <td>1</td>\n",
       "      <td>0</td>\n",
       "      <td>3</td>\n",
       "      <td>male</td>\n",
       "      <td>22.0</td>\n",
       "      <td>7.2500</td>\n",
       "      <td>NaN</td>\n",
       "      <td>S</td>\n",
       "      <td>23</td>\n",
       "      <td>Mr.</td>\n",
       "      <td>0</td>\n",
       "      <td>Nuclear</td>\n",
       "      <td>A</td>\n",
       "      <td>9</td>\n",
       "    </tr>\n",
       "    <tr>\n",
       "      <th>1</th>\n",
       "      <td>2</td>\n",
       "      <td>1</td>\n",
       "      <td>1</td>\n",
       "      <td>female</td>\n",
       "      <td>38.0</td>\n",
       "      <td>71.2833</td>\n",
       "      <td>C85</td>\n",
       "      <td>C</td>\n",
       "      <td>51</td>\n",
       "      <td>Mrs.</td>\n",
       "      <td>0</td>\n",
       "      <td>Nuclear</td>\n",
       "      <td>P</td>\n",
       "      <td>8</td>\n",
       "    </tr>\n",
       "    <tr>\n",
       "      <th>2</th>\n",
       "      <td>3</td>\n",
       "      <td>1</td>\n",
       "      <td>3</td>\n",
       "      <td>female</td>\n",
       "      <td>26.0</td>\n",
       "      <td>7.9250</td>\n",
       "      <td>NaN</td>\n",
       "      <td>S</td>\n",
       "      <td>22</td>\n",
       "      <td>Miss.</td>\n",
       "      <td>0</td>\n",
       "      <td>Solo</td>\n",
       "      <td>S</td>\n",
       "      <td>16</td>\n",
       "    </tr>\n",
       "    <tr>\n",
       "      <th>3</th>\n",
       "      <td>4</td>\n",
       "      <td>1</td>\n",
       "      <td>1</td>\n",
       "      <td>female</td>\n",
       "      <td>35.0</td>\n",
       "      <td>53.1000</td>\n",
       "      <td>C123</td>\n",
       "      <td>S</td>\n",
       "      <td>44</td>\n",
       "      <td>Mrs.</td>\n",
       "      <td>0</td>\n",
       "      <td>Nuclear</td>\n",
       "      <td>1</td>\n",
       "      <td>6</td>\n",
       "    </tr>\n",
       "    <tr>\n",
       "      <th>4</th>\n",
       "      <td>5</td>\n",
       "      <td>0</td>\n",
       "      <td>3</td>\n",
       "      <td>male</td>\n",
       "      <td>35.0</td>\n",
       "      <td>8.0500</td>\n",
       "      <td>NaN</td>\n",
       "      <td>S</td>\n",
       "      <td>24</td>\n",
       "      <td>Mr.</td>\n",
       "      <td>0</td>\n",
       "      <td>Solo</td>\n",
       "      <td>3</td>\n",
       "      <td>6</td>\n",
       "    </tr>\n",
       "  </tbody>\n",
       "</table>\n",
       "</div>"
      ],
      "text/plain": [
       "   PassengerId  Survived  Pclass     Sex   Age     Fare Cabin Embarked  \\\n",
       "0            1         0       3    male  22.0   7.2500   NaN        S   \n",
       "1            2         1       1  female  38.0  71.2833   C85        C   \n",
       "2            3         1       3  female  26.0   7.9250   NaN        S   \n",
       "3            4         1       1  female  35.0  53.1000  C123        S   \n",
       "4            5         0       3    male  35.0   8.0500   NaN        S   \n",
       "\n",
       "   Name_Len Name_Title  Age_Null_Flag Fam_Size Ticket_Lett  Ticket_Len  \n",
       "0        23        Mr.              0  Nuclear           A           9  \n",
       "1        51       Mrs.              0  Nuclear           P           8  \n",
       "2        22      Miss.              0     Solo           S          16  \n",
       "3        44       Mrs.              0  Nuclear           1           6  \n",
       "4        24        Mr.              0     Solo           3           6  "
      ]
     },
     "execution_count": 45,
     "metadata": {},
     "output_type": "execute_result"
    }
   ],
   "source": [
    "train.head()"
   ]
  },
  {
   "cell_type": "markdown",
   "metadata": {},
   "source": [
    "##### Cabin\n",
    "\n",
    "1. extract letter "
   ]
  },
  {
   "cell_type": "code",
   "execution_count": 46,
   "metadata": {},
   "outputs": [],
   "source": [
    "train = to(train, 'Cabin', 'Cabin_Letter', lambda x: str(x)[0], False)\n",
    "test = to(test, 'Cabin', 'Cabin_Letter', lambda x: str(x)[0], False)"
   ]
  },
  {
   "cell_type": "markdown",
   "metadata": {},
   "source": [
    "2. convert cabin range to categorical feature"
   ]
  },
  {
   "cell_type": "markdown",
   "metadata": {},
   "source": [
    "2. 1. Get cabin number"
   ]
  },
  {
   "cell_type": "code",
   "execution_count": 47,
   "metadata": {},
   "outputs": [],
   "source": [
    "train = to(train, 'Cabin', 'Cabin_num1', lambda x: str(x).split(' ')[-1][1:], True)\n",
    "test = to(test, 'Cabin', 'Cabin_num1', lambda x: str(x).split(' ')[-1][1:], True)\n",
    "\n",
    "train['Cabin_num1'].replace('an', np.NaN, inplace = True)\n",
    "test['Cabin_num1'].replace('an', np.NaN, inplace = True)\n",
    "\n",
    "train = to(train, 'Cabin_num1', 'Cabin_num', lambda x: int(x) if not pd.isnull(x) and x != '' else np.NaN)\n",
    "test = to(test, 'Cabin_num1', 'Cabin_num', lambda x: int(x) if not pd.isnull(x) and x != '' else np.NaN)"
   ]
  },
  {
   "cell_type": "code",
   "execution_count": 48,
   "metadata": {
    "scrolled": true
   },
   "outputs": [
    {
     "data": {
      "text/html": [
       "<div>\n",
       "<style scoped>\n",
       "    .dataframe tbody tr th:only-of-type {\n",
       "        vertical-align: middle;\n",
       "    }\n",
       "\n",
       "    .dataframe tbody tr th {\n",
       "        vertical-align: top;\n",
       "    }\n",
       "\n",
       "    .dataframe thead th {\n",
       "        text-align: right;\n",
       "    }\n",
       "</style>\n",
       "<table border=\"1\" class=\"dataframe\">\n",
       "  <thead>\n",
       "    <tr style=\"text-align: right;\">\n",
       "      <th></th>\n",
       "      <th>PassengerId</th>\n",
       "      <th>Survived</th>\n",
       "      <th>Pclass</th>\n",
       "      <th>Sex</th>\n",
       "      <th>Age</th>\n",
       "      <th>Fare</th>\n",
       "      <th>Embarked</th>\n",
       "      <th>Name_Len</th>\n",
       "      <th>Name_Title</th>\n",
       "      <th>Age_Null_Flag</th>\n",
       "      <th>Fam_Size</th>\n",
       "      <th>Ticket_Lett</th>\n",
       "      <th>Ticket_Len</th>\n",
       "      <th>Cabin_Letter</th>\n",
       "      <th>Cabin_num1</th>\n",
       "      <th>Cabin_num</th>\n",
       "    </tr>\n",
       "  </thead>\n",
       "  <tbody>\n",
       "    <tr>\n",
       "      <th>0</th>\n",
       "      <td>1</td>\n",
       "      <td>0</td>\n",
       "      <td>3</td>\n",
       "      <td>male</td>\n",
       "      <td>22.0</td>\n",
       "      <td>7.2500</td>\n",
       "      <td>S</td>\n",
       "      <td>23</td>\n",
       "      <td>Mr.</td>\n",
       "      <td>0</td>\n",
       "      <td>Nuclear</td>\n",
       "      <td>A</td>\n",
       "      <td>9</td>\n",
       "      <td>n</td>\n",
       "      <td>NaN</td>\n",
       "      <td>NaN</td>\n",
       "    </tr>\n",
       "    <tr>\n",
       "      <th>1</th>\n",
       "      <td>2</td>\n",
       "      <td>1</td>\n",
       "      <td>1</td>\n",
       "      <td>female</td>\n",
       "      <td>38.0</td>\n",
       "      <td>71.2833</td>\n",
       "      <td>C</td>\n",
       "      <td>51</td>\n",
       "      <td>Mrs.</td>\n",
       "      <td>0</td>\n",
       "      <td>Nuclear</td>\n",
       "      <td>P</td>\n",
       "      <td>8</td>\n",
       "      <td>C</td>\n",
       "      <td>85</td>\n",
       "      <td>85.0</td>\n",
       "    </tr>\n",
       "    <tr>\n",
       "      <th>2</th>\n",
       "      <td>3</td>\n",
       "      <td>1</td>\n",
       "      <td>3</td>\n",
       "      <td>female</td>\n",
       "      <td>26.0</td>\n",
       "      <td>7.9250</td>\n",
       "      <td>S</td>\n",
       "      <td>22</td>\n",
       "      <td>Miss.</td>\n",
       "      <td>0</td>\n",
       "      <td>Solo</td>\n",
       "      <td>S</td>\n",
       "      <td>16</td>\n",
       "      <td>n</td>\n",
       "      <td>NaN</td>\n",
       "      <td>NaN</td>\n",
       "    </tr>\n",
       "    <tr>\n",
       "      <th>3</th>\n",
       "      <td>4</td>\n",
       "      <td>1</td>\n",
       "      <td>1</td>\n",
       "      <td>female</td>\n",
       "      <td>35.0</td>\n",
       "      <td>53.1000</td>\n",
       "      <td>S</td>\n",
       "      <td>44</td>\n",
       "      <td>Mrs.</td>\n",
       "      <td>0</td>\n",
       "      <td>Nuclear</td>\n",
       "      <td>1</td>\n",
       "      <td>6</td>\n",
       "      <td>C</td>\n",
       "      <td>123</td>\n",
       "      <td>123.0</td>\n",
       "    </tr>\n",
       "    <tr>\n",
       "      <th>4</th>\n",
       "      <td>5</td>\n",
       "      <td>0</td>\n",
       "      <td>3</td>\n",
       "      <td>male</td>\n",
       "      <td>35.0</td>\n",
       "      <td>8.0500</td>\n",
       "      <td>S</td>\n",
       "      <td>24</td>\n",
       "      <td>Mr.</td>\n",
       "      <td>0</td>\n",
       "      <td>Solo</td>\n",
       "      <td>3</td>\n",
       "      <td>6</td>\n",
       "      <td>n</td>\n",
       "      <td>NaN</td>\n",
       "      <td>NaN</td>\n",
       "    </tr>\n",
       "  </tbody>\n",
       "</table>\n",
       "</div>"
      ],
      "text/plain": [
       "   PassengerId  Survived  Pclass     Sex   Age     Fare Embarked  Name_Len  \\\n",
       "0            1         0       3    male  22.0   7.2500        S        23   \n",
       "1            2         1       1  female  38.0  71.2833        C        51   \n",
       "2            3         1       3  female  26.0   7.9250        S        22   \n",
       "3            4         1       1  female  35.0  53.1000        S        44   \n",
       "4            5         0       3    male  35.0   8.0500        S        24   \n",
       "\n",
       "  Name_Title  Age_Null_Flag Fam_Size Ticket_Lett  Ticket_Len Cabin_Letter  \\\n",
       "0        Mr.              0  Nuclear           A           9            n   \n",
       "1       Mrs.              0  Nuclear           P           8            C   \n",
       "2      Miss.              0     Solo           S          16            n   \n",
       "3       Mrs.              0  Nuclear           1           6            C   \n",
       "4        Mr.              0     Solo           3           6            n   \n",
       "\n",
       "  Cabin_num1  Cabin_num  \n",
       "0        NaN        NaN  \n",
       "1         85       85.0  \n",
       "2        NaN        NaN  \n",
       "3        123      123.0  \n",
       "4        NaN        NaN  "
      ]
     },
     "execution_count": 48,
     "metadata": {},
     "output_type": "execute_result"
    }
   ],
   "source": [
    "train.head()"
   ]
  },
  {
   "cell_type": "markdown",
   "metadata": {},
   "source": [
    "2. 2. grouping according to cabin numbers"
   ]
  },
  {
   "cell_type": "code",
   "execution_count": 49,
   "metadata": {},
   "outputs": [],
   "source": [
    "# convert column \"a\" of a DataFrame\n",
    "train[\"Cabin_num1\"] = pd.to_numeric(train[\"Cabin_num1\"])\n",
    "test[\"Cabin_num1\"] = pd.to_numeric(test[\"Cabin_num1\"])\n",
    "\n",
    "train['Cabin_num'] = pd.qcut(train['Cabin_num1'], 3)\n",
    "test['Cabin_num'] = pd.qcut(train['Cabin_num1'], 3)"
   ]
  },
  {
   "cell_type": "markdown",
   "metadata": {},
   "source": [
    "2. 3. create columns for categories"
   ]
  },
  {
   "cell_type": "code",
   "execution_count": 50,
   "metadata": {},
   "outputs": [],
   "source": [
    "train = pd.concat((train, pd.get_dummies(train['Cabin_num'], prefix = 'Cabin_num')), axis = 1)\n",
    "test = pd.concat((test, pd.get_dummies(test['Cabin_num'], prefix = 'Cabin_num')), axis = 1)"
   ]
  },
  {
   "cell_type": "code",
   "execution_count": 51,
   "metadata": {},
   "outputs": [],
   "source": [
    "del train['Cabin_num']\n",
    "del test['Cabin_num']\n",
    "del train['Cabin_num1']\n",
    "del test['Cabin_num1']"
   ]
  },
  {
   "cell_type": "markdown",
   "metadata": {},
   "source": [
    "##### Embarked \n",
    "\n",
    "1. fill nan values with \"S\""
   ]
  },
  {
   "cell_type": "code",
   "execution_count": 52,
   "metadata": {},
   "outputs": [],
   "source": [
    "for i in [train, test]:\n",
    "    i['Embarked'] = i['Embarked'].fillna('S')"
   ]
  },
  {
   "cell_type": "markdown",
   "metadata": {},
   "source": [
    "##### Fare\n",
    "\n",
    "1. Fill nan vales with mean"
   ]
  },
  {
   "cell_type": "code",
   "execution_count": 53,
   "metadata": {},
   "outputs": [],
   "source": [
    "test['Fare'].fillna(train['Fare'].mean(), inplace = True)"
   ]
  },
  {
   "cell_type": "markdown",
   "metadata": {},
   "source": [
    "##### Replace columns with dummy variables"
   ]
  },
  {
   "cell_type": "code",
   "execution_count": 54,
   "metadata": {},
   "outputs": [],
   "source": [
    "columns = ['Pclass', 'Sex', 'Embarked', 'Ticket_Lett', 'Cabin_Letter', 'Name_Title', 'Fam_Size']\n",
    "\n",
    "for column in columns:\n",
    "    train[column] = train[column].apply(lambda x: str(x))\n",
    "    test[column] = test[column].apply(lambda x: str(x))\n",
    "    good_cols = [column+'_'+i for i in train[column].unique() if i in test[column].unique()]\n",
    "    train = pd.concat((train, pd.get_dummies(train[column], prefix = column)[good_cols]), axis = 1)\n",
    "    test = pd.concat((test, pd.get_dummies(test[column], prefix = column)[good_cols]), axis = 1)\n",
    "    \n",
    "    del train[column]\n",
    "    del test[column]"
   ]
  },
  {
   "cell_type": "code",
   "execution_count": 55,
   "metadata": {},
   "outputs": [
    {
     "data": {
      "text/html": [
       "<div>\n",
       "<style scoped>\n",
       "    .dataframe tbody tr th:only-of-type {\n",
       "        vertical-align: middle;\n",
       "    }\n",
       "\n",
       "    .dataframe tbody tr th {\n",
       "        vertical-align: top;\n",
       "    }\n",
       "\n",
       "    .dataframe thead th {\n",
       "        text-align: right;\n",
       "    }\n",
       "</style>\n",
       "<table border=\"1\" class=\"dataframe\">\n",
       "  <thead>\n",
       "    <tr style=\"text-align: right;\">\n",
       "      <th></th>\n",
       "      <th>PassengerId</th>\n",
       "      <th>Survived</th>\n",
       "      <th>Age</th>\n",
       "      <th>Fare</th>\n",
       "      <th>Name_Len</th>\n",
       "      <th>Age_Null_Flag</th>\n",
       "      <th>Ticket_Len</th>\n",
       "      <th>Cabin_num_(1.999, 28.667]</th>\n",
       "      <th>Cabin_num_(28.667, 65.667]</th>\n",
       "      <th>Cabin_num_(65.667, 148.0]</th>\n",
       "      <th>...</th>\n",
       "      <th>Name_Title_Mrs.</th>\n",
       "      <th>Name_Title_Miss.</th>\n",
       "      <th>Name_Title_Master.</th>\n",
       "      <th>Name_Title_Rev.</th>\n",
       "      <th>Name_Title_Dr.</th>\n",
       "      <th>Name_Title_Ms.</th>\n",
       "      <th>Name_Title_Col.</th>\n",
       "      <th>Fam_Size_Nuclear</th>\n",
       "      <th>Fam_Size_Solo</th>\n",
       "      <th>Fam_Size_Big</th>\n",
       "    </tr>\n",
       "  </thead>\n",
       "  <tbody>\n",
       "    <tr>\n",
       "      <th>0</th>\n",
       "      <td>1</td>\n",
       "      <td>0</td>\n",
       "      <td>22.0</td>\n",
       "      <td>7.2500</td>\n",
       "      <td>23</td>\n",
       "      <td>0</td>\n",
       "      <td>9</td>\n",
       "      <td>0</td>\n",
       "      <td>0</td>\n",
       "      <td>0</td>\n",
       "      <td>...</td>\n",
       "      <td>0</td>\n",
       "      <td>0</td>\n",
       "      <td>0</td>\n",
       "      <td>0</td>\n",
       "      <td>0</td>\n",
       "      <td>0</td>\n",
       "      <td>0</td>\n",
       "      <td>1</td>\n",
       "      <td>0</td>\n",
       "      <td>0</td>\n",
       "    </tr>\n",
       "    <tr>\n",
       "      <th>1</th>\n",
       "      <td>2</td>\n",
       "      <td>1</td>\n",
       "      <td>38.0</td>\n",
       "      <td>71.2833</td>\n",
       "      <td>51</td>\n",
       "      <td>0</td>\n",
       "      <td>8</td>\n",
       "      <td>0</td>\n",
       "      <td>0</td>\n",
       "      <td>1</td>\n",
       "      <td>...</td>\n",
       "      <td>1</td>\n",
       "      <td>0</td>\n",
       "      <td>0</td>\n",
       "      <td>0</td>\n",
       "      <td>0</td>\n",
       "      <td>0</td>\n",
       "      <td>0</td>\n",
       "      <td>1</td>\n",
       "      <td>0</td>\n",
       "      <td>0</td>\n",
       "    </tr>\n",
       "    <tr>\n",
       "      <th>2</th>\n",
       "      <td>3</td>\n",
       "      <td>1</td>\n",
       "      <td>26.0</td>\n",
       "      <td>7.9250</td>\n",
       "      <td>22</td>\n",
       "      <td>0</td>\n",
       "      <td>16</td>\n",
       "      <td>0</td>\n",
       "      <td>0</td>\n",
       "      <td>0</td>\n",
       "      <td>...</td>\n",
       "      <td>0</td>\n",
       "      <td>1</td>\n",
       "      <td>0</td>\n",
       "      <td>0</td>\n",
       "      <td>0</td>\n",
       "      <td>0</td>\n",
       "      <td>0</td>\n",
       "      <td>0</td>\n",
       "      <td>1</td>\n",
       "      <td>0</td>\n",
       "    </tr>\n",
       "    <tr>\n",
       "      <th>3</th>\n",
       "      <td>4</td>\n",
       "      <td>1</td>\n",
       "      <td>35.0</td>\n",
       "      <td>53.1000</td>\n",
       "      <td>44</td>\n",
       "      <td>0</td>\n",
       "      <td>6</td>\n",
       "      <td>0</td>\n",
       "      <td>0</td>\n",
       "      <td>1</td>\n",
       "      <td>...</td>\n",
       "      <td>1</td>\n",
       "      <td>0</td>\n",
       "      <td>0</td>\n",
       "      <td>0</td>\n",
       "      <td>0</td>\n",
       "      <td>0</td>\n",
       "      <td>0</td>\n",
       "      <td>1</td>\n",
       "      <td>0</td>\n",
       "      <td>0</td>\n",
       "    </tr>\n",
       "    <tr>\n",
       "      <th>4</th>\n",
       "      <td>5</td>\n",
       "      <td>0</td>\n",
       "      <td>35.0</td>\n",
       "      <td>8.0500</td>\n",
       "      <td>24</td>\n",
       "      <td>0</td>\n",
       "      <td>6</td>\n",
       "      <td>0</td>\n",
       "      <td>0</td>\n",
       "      <td>0</td>\n",
       "      <td>...</td>\n",
       "      <td>0</td>\n",
       "      <td>0</td>\n",
       "      <td>0</td>\n",
       "      <td>0</td>\n",
       "      <td>0</td>\n",
       "      <td>0</td>\n",
       "      <td>0</td>\n",
       "      <td>0</td>\n",
       "      <td>1</td>\n",
       "      <td>0</td>\n",
       "    </tr>\n",
       "  </tbody>\n",
       "</table>\n",
       "<p>5 rows × 46 columns</p>\n",
       "</div>"
      ],
      "text/plain": [
       "   PassengerId  Survived   Age     Fare  Name_Len  Age_Null_Flag  Ticket_Len  \\\n",
       "0            1         0  22.0   7.2500        23              0           9   \n",
       "1            2         1  38.0  71.2833        51              0           8   \n",
       "2            3         1  26.0   7.9250        22              0          16   \n",
       "3            4         1  35.0  53.1000        44              0           6   \n",
       "4            5         0  35.0   8.0500        24              0           6   \n",
       "\n",
       "   Cabin_num_(1.999, 28.667]  Cabin_num_(28.667, 65.667]  \\\n",
       "0                          0                           0   \n",
       "1                          0                           0   \n",
       "2                          0                           0   \n",
       "3                          0                           0   \n",
       "4                          0                           0   \n",
       "\n",
       "   Cabin_num_(65.667, 148.0]  ...  Name_Title_Mrs.  Name_Title_Miss.  \\\n",
       "0                          0  ...                0                 0   \n",
       "1                          1  ...                1                 0   \n",
       "2                          0  ...                0                 1   \n",
       "3                          1  ...                1                 0   \n",
       "4                          0  ...                0                 0   \n",
       "\n",
       "   Name_Title_Master.  Name_Title_Rev.  Name_Title_Dr.  Name_Title_Ms.  \\\n",
       "0                   0                0               0               0   \n",
       "1                   0                0               0               0   \n",
       "2                   0                0               0               0   \n",
       "3                   0                0               0               0   \n",
       "4                   0                0               0               0   \n",
       "\n",
       "   Name_Title_Col.  Fam_Size_Nuclear  Fam_Size_Solo  Fam_Size_Big  \n",
       "0                0                 1              0             0  \n",
       "1                0                 1              0             0  \n",
       "2                0                 0              1             0  \n",
       "3                0                 1              0             0  \n",
       "4                0                 0              1             0  \n",
       "\n",
       "[5 rows x 46 columns]"
      ]
     },
     "execution_count": 55,
     "metadata": {},
     "output_type": "execute_result"
    }
   ],
   "source": [
    "train.head()"
   ]
  },
  {
   "cell_type": "markdown",
   "metadata": {},
   "source": [
    "##### Drop some columns"
   ]
  },
  {
   "cell_type": "code",
   "execution_count": 56,
   "metadata": {},
   "outputs": [],
   "source": [
    "train = drop(train, ['PassengerId'])\n",
    "test = drop(test, ['PassengerId'])"
   ]
  },
  {
   "cell_type": "code",
   "execution_count": 57,
   "metadata": {},
   "outputs": [
    {
     "name": "stdout",
     "output_type": "stream",
     "text": [
      "45\n"
     ]
    }
   ],
   "source": [
    "print(len(train.columns))"
   ]
  },
  {
   "cell_type": "code",
   "execution_count": 58,
   "metadata": {},
   "outputs": [
    {
     "data": {
      "text/html": [
       "<div>\n",
       "<style scoped>\n",
       "    .dataframe tbody tr th:only-of-type {\n",
       "        vertical-align: middle;\n",
       "    }\n",
       "\n",
       "    .dataframe tbody tr th {\n",
       "        vertical-align: top;\n",
       "    }\n",
       "\n",
       "    .dataframe thead th {\n",
       "        text-align: right;\n",
       "    }\n",
       "</style>\n",
       "<table border=\"1\" class=\"dataframe\">\n",
       "  <thead>\n",
       "    <tr style=\"text-align: right;\">\n",
       "      <th></th>\n",
       "      <th>Survived</th>\n",
       "      <th>Age</th>\n",
       "      <th>Fare</th>\n",
       "      <th>Name_Len</th>\n",
       "      <th>Age_Null_Flag</th>\n",
       "      <th>Ticket_Len</th>\n",
       "      <th>Cabin_num_(1.999, 28.667]</th>\n",
       "      <th>Cabin_num_(28.667, 65.667]</th>\n",
       "      <th>Cabin_num_(65.667, 148.0]</th>\n",
       "      <th>Pclass_3</th>\n",
       "      <th>...</th>\n",
       "      <th>Name_Title_Mrs.</th>\n",
       "      <th>Name_Title_Miss.</th>\n",
       "      <th>Name_Title_Master.</th>\n",
       "      <th>Name_Title_Rev.</th>\n",
       "      <th>Name_Title_Dr.</th>\n",
       "      <th>Name_Title_Ms.</th>\n",
       "      <th>Name_Title_Col.</th>\n",
       "      <th>Fam_Size_Nuclear</th>\n",
       "      <th>Fam_Size_Solo</th>\n",
       "      <th>Fam_Size_Big</th>\n",
       "    </tr>\n",
       "  </thead>\n",
       "  <tbody>\n",
       "    <tr>\n",
       "      <th>0</th>\n",
       "      <td>0</td>\n",
       "      <td>22.0</td>\n",
       "      <td>7.2500</td>\n",
       "      <td>23</td>\n",
       "      <td>0</td>\n",
       "      <td>9</td>\n",
       "      <td>0</td>\n",
       "      <td>0</td>\n",
       "      <td>0</td>\n",
       "      <td>1</td>\n",
       "      <td>...</td>\n",
       "      <td>0</td>\n",
       "      <td>0</td>\n",
       "      <td>0</td>\n",
       "      <td>0</td>\n",
       "      <td>0</td>\n",
       "      <td>0</td>\n",
       "      <td>0</td>\n",
       "      <td>1</td>\n",
       "      <td>0</td>\n",
       "      <td>0</td>\n",
       "    </tr>\n",
       "    <tr>\n",
       "      <th>1</th>\n",
       "      <td>1</td>\n",
       "      <td>38.0</td>\n",
       "      <td>71.2833</td>\n",
       "      <td>51</td>\n",
       "      <td>0</td>\n",
       "      <td>8</td>\n",
       "      <td>0</td>\n",
       "      <td>0</td>\n",
       "      <td>1</td>\n",
       "      <td>0</td>\n",
       "      <td>...</td>\n",
       "      <td>1</td>\n",
       "      <td>0</td>\n",
       "      <td>0</td>\n",
       "      <td>0</td>\n",
       "      <td>0</td>\n",
       "      <td>0</td>\n",
       "      <td>0</td>\n",
       "      <td>1</td>\n",
       "      <td>0</td>\n",
       "      <td>0</td>\n",
       "    </tr>\n",
       "    <tr>\n",
       "      <th>2</th>\n",
       "      <td>1</td>\n",
       "      <td>26.0</td>\n",
       "      <td>7.9250</td>\n",
       "      <td>22</td>\n",
       "      <td>0</td>\n",
       "      <td>16</td>\n",
       "      <td>0</td>\n",
       "      <td>0</td>\n",
       "      <td>0</td>\n",
       "      <td>1</td>\n",
       "      <td>...</td>\n",
       "      <td>0</td>\n",
       "      <td>1</td>\n",
       "      <td>0</td>\n",
       "      <td>0</td>\n",
       "      <td>0</td>\n",
       "      <td>0</td>\n",
       "      <td>0</td>\n",
       "      <td>0</td>\n",
       "      <td>1</td>\n",
       "      <td>0</td>\n",
       "    </tr>\n",
       "    <tr>\n",
       "      <th>3</th>\n",
       "      <td>1</td>\n",
       "      <td>35.0</td>\n",
       "      <td>53.1000</td>\n",
       "      <td>44</td>\n",
       "      <td>0</td>\n",
       "      <td>6</td>\n",
       "      <td>0</td>\n",
       "      <td>0</td>\n",
       "      <td>1</td>\n",
       "      <td>0</td>\n",
       "      <td>...</td>\n",
       "      <td>1</td>\n",
       "      <td>0</td>\n",
       "      <td>0</td>\n",
       "      <td>0</td>\n",
       "      <td>0</td>\n",
       "      <td>0</td>\n",
       "      <td>0</td>\n",
       "      <td>1</td>\n",
       "      <td>0</td>\n",
       "      <td>0</td>\n",
       "    </tr>\n",
       "    <tr>\n",
       "      <th>4</th>\n",
       "      <td>0</td>\n",
       "      <td>35.0</td>\n",
       "      <td>8.0500</td>\n",
       "      <td>24</td>\n",
       "      <td>0</td>\n",
       "      <td>6</td>\n",
       "      <td>0</td>\n",
       "      <td>0</td>\n",
       "      <td>0</td>\n",
       "      <td>1</td>\n",
       "      <td>...</td>\n",
       "      <td>0</td>\n",
       "      <td>0</td>\n",
       "      <td>0</td>\n",
       "      <td>0</td>\n",
       "      <td>0</td>\n",
       "      <td>0</td>\n",
       "      <td>0</td>\n",
       "      <td>0</td>\n",
       "      <td>1</td>\n",
       "      <td>0</td>\n",
       "    </tr>\n",
       "  </tbody>\n",
       "</table>\n",
       "<p>5 rows × 45 columns</p>\n",
       "</div>"
      ],
      "text/plain": [
       "   Survived   Age     Fare  Name_Len  Age_Null_Flag  Ticket_Len  \\\n",
       "0         0  22.0   7.2500        23              0           9   \n",
       "1         1  38.0  71.2833        51              0           8   \n",
       "2         1  26.0   7.9250        22              0          16   \n",
       "3         1  35.0  53.1000        44              0           6   \n",
       "4         0  35.0   8.0500        24              0           6   \n",
       "\n",
       "   Cabin_num_(1.999, 28.667]  Cabin_num_(28.667, 65.667]  \\\n",
       "0                          0                           0   \n",
       "1                          0                           0   \n",
       "2                          0                           0   \n",
       "3                          0                           0   \n",
       "4                          0                           0   \n",
       "\n",
       "   Cabin_num_(65.667, 148.0]  Pclass_3  ...  Name_Title_Mrs.  \\\n",
       "0                          0         1  ...                0   \n",
       "1                          1         0  ...                1   \n",
       "2                          0         1  ...                0   \n",
       "3                          1         0  ...                1   \n",
       "4                          0         1  ...                0   \n",
       "\n",
       "   Name_Title_Miss.  Name_Title_Master.  Name_Title_Rev.  Name_Title_Dr.  \\\n",
       "0                 0                   0                0               0   \n",
       "1                 0                   0                0               0   \n",
       "2                 1                   0                0               0   \n",
       "3                 0                   0                0               0   \n",
       "4                 0                   0                0               0   \n",
       "\n",
       "   Name_Title_Ms.  Name_Title_Col.  Fam_Size_Nuclear  Fam_Size_Solo  \\\n",
       "0               0                0                 1              0   \n",
       "1               0                0                 1              0   \n",
       "2               0                0                 0              1   \n",
       "3               0                0                 1              0   \n",
       "4               0                0                 0              1   \n",
       "\n",
       "   Fam_Size_Big  \n",
       "0             0  \n",
       "1             0  \n",
       "2             0  \n",
       "3             0  \n",
       "4             0  \n",
       "\n",
       "[5 rows x 45 columns]"
      ]
     },
     "execution_count": 58,
     "metadata": {},
     "output_type": "execute_result"
    }
   ],
   "source": [
    "train.head()"
   ]
  },
  {
   "cell_type": "markdown",
   "metadata": {},
   "source": [
    "# Models"
   ]
  },
  {
   "cell_type": "markdown",
   "metadata": {},
   "source": [
    "#### Hyper-Parameter Tuning"
   ]
  },
  {
   "cell_type": "code",
   "execution_count": 59,
   "metadata": {},
   "outputs": [
    {
     "name": "stdout",
     "output_type": "stream",
     "text": [
      "0.8428731762065095\n",
      "{'criterion': 'entropy', 'min_samples_leaf': 1, 'min_samples_split': 10, 'n_estimators': 50}\n",
      "RandomForestClassifier(criterion='entropy', min_samples_split=10,\n",
      "                       n_estimators=50, n_jobs=-1, oob_score=True,\n",
      "                       random_state=1)\n"
     ]
    }
   ],
   "source": [
    "from sklearn.model_selection import GridSearchCV\n",
    "from sklearn.ensemble import RandomForestClassifier\n",
    "\n",
    "rf = RandomForestClassifier(oob_score=True, random_state=1, n_jobs=-1)\n",
    "\n",
    "param_grid = { \n",
    "    \"criterion\" : [\"gini\", \"entropy\"], \n",
    "    \"min_samples_leaf\" : [1, 5, 10], \n",
    "    \"min_samples_split\" : [2, 4, 10, 12, 16], \n",
    "    \"n_estimators\": [50, 100, 400, 700, 1000]\n",
    "}\n",
    "\n",
    "gs = GridSearchCV(estimator=rf, param_grid=param_grid, scoring='accuracy', cv=3, n_jobs=-1)\n",
    "\n",
    "gs = gs.fit(train.iloc[:, 1:], train.iloc[:, 0])\n",
    "\n",
    "print(gs.best_score_)\n",
    "print(gs.best_params_)\n",
    "print(gs.best_estimator_)"
   ]
  },
  {
   "cell_type": "markdown",
   "metadata": {},
   "source": [
    "#### Running model"
   ]
  },
  {
   "cell_type": "code",
   "execution_count": 60,
   "metadata": {},
   "outputs": [
    {
     "name": "stdout",
     "output_type": "stream",
     "text": [
      "0.8260\n"
     ]
    }
   ],
   "source": [
    "from sklearn.ensemble import RandomForestClassifier\n",
    "\n",
    "rf = RandomForestClassifier(criterion='entropy', \n",
    "                             n_estimators=50,\n",
    "                             min_samples_split=10,\n",
    "                             min_samples_leaf=1,\n",
    "                             oob_score=True,\n",
    "                             random_state=1,\n",
    "                             n_jobs=-1)\n",
    "rf.fit(train.iloc[:, 1:], train.iloc[:, 0])\n",
    "print(\"%.4f\" % rf.oob_score_)"
   ]
  },
  {
   "cell_type": "markdown",
   "metadata": {},
   "source": [
    "#### Importance variable"
   ]
  },
  {
   "cell_type": "code",
   "execution_count": 61,
   "metadata": {},
   "outputs": [],
   "source": [
    "features, k_best = get_top_k_features(\n",
    "     train.iloc[:, 1:], \n",
    "     train.iloc[:, 0],\n",
    "     k=10,\n",
    "     \n",
    "     # random forest parameter\n",
    "     criterion='entropy', \n",
    "     n_estimators=50,\n",
    "     min_samples_split=10,\n",
    "     min_samples_leaf=1,\n",
    "     oob_score=True,\n",
    "     random_state=1,\n",
    "     n_jobs=-1\n",
    " )"
   ]
  },
  {
   "cell_type": "code",
   "execution_count": 62,
   "metadata": {},
   "outputs": [
    {
     "name": "stdout",
     "output_type": "stream",
     "text": [
      "0.8429\n"
     ]
    }
   ],
   "source": [
    "rf.fit(train[k_best], train.iloc[:, 0])\n",
    "print(\"%.4f\" % rf.oob_score_)"
   ]
  },
  {
   "cell_type": "markdown",
   "metadata": {},
   "source": [
    "#### Catboost classifier"
   ]
  },
  {
   "cell_type": "code",
   "execution_count": 104,
   "metadata": {},
   "outputs": [],
   "source": [
    "from catboost import CatBoostClassifier\n",
    "\n",
    "clf = CatBoostClassifier( \n",
    "    learning_rate=0.1, \n",
    "    iterations=250,\n",
    "    task_type=\"GPU\",\n",
    "    devices='0:1'\n",
    "    #loss_function='CrossEntropy'\n",
    ")"
   ]
  },
  {
   "cell_type": "code",
   "execution_count": 105,
   "metadata": {},
   "outputs": [
    {
     "name": "stdout",
     "output_type": "stream",
     "text": [
      "0:\tlearn: 0.6050574\ttest: 0.6161683\tbest: 0.6161683 (0)\ttotal: 8.36ms\tremaining: 2.08s\n",
      "1:\tlearn: 0.5479829\ttest: 0.5579509\tbest: 0.5579509 (1)\ttotal: 15.2ms\tremaining: 1.89s\n",
      "2:\tlearn: 0.4979666\ttest: 0.5391134\tbest: 0.5391134 (2)\ttotal: 27.6ms\tremaining: 2.27s\n",
      "3:\tlearn: 0.4631324\ttest: 0.5226110\tbest: 0.5226110 (3)\ttotal: 36.6ms\tremaining: 2.25s\n",
      "4:\tlearn: 0.4236080\ttest: 0.4992152\tbest: 0.4992152 (4)\ttotal: 44.2ms\tremaining: 2.17s\n",
      "5:\tlearn: 0.3960102\ttest: 0.4861348\tbest: 0.4861348 (5)\ttotal: 54ms\tremaining: 2.19s\n",
      "6:\tlearn: 0.3710222\ttest: 0.4745964\tbest: 0.4745964 (6)\ttotal: 64.2ms\tremaining: 2.23s\n",
      "7:\tlearn: 0.3327408\ttest: 0.4359150\tbest: 0.4359150 (7)\ttotal: 73.7ms\tremaining: 2.23s\n",
      "8:\tlearn: 0.3082463\ttest: 0.4270098\tbest: 0.4270098 (8)\ttotal: 82.5ms\tremaining: 2.21s\n",
      "9:\tlearn: 0.2790827\ttest: 0.3954863\tbest: 0.3954863 (9)\ttotal: 88.9ms\tremaining: 2.13s\n",
      "10:\tlearn: 0.2540144\ttest: 0.3676706\tbest: 0.3676706 (10)\ttotal: 94.8ms\tremaining: 2.06s\n",
      "11:\tlearn: 0.2379154\ttest: 0.3619600\tbest: 0.3619600 (11)\ttotal: 103ms\tremaining: 2.03s\n",
      "12:\tlearn: 0.2234277\ttest: 0.3619600\tbest: 0.3619600 (11)\ttotal: 110ms\tremaining: 2s\n",
      "13:\tlearn: 0.2103453\ttest: 0.3540681\tbest: 0.3540681 (13)\ttotal: 116ms\tremaining: 1.96s\n",
      "14:\tlearn: 0.1941030\ttest: 0.3331924\tbest: 0.3331924 (14)\ttotal: 123ms\tremaining: 1.92s\n",
      "15:\tlearn: 0.1837038\ttest: 0.3271063\tbest: 0.3271063 (15)\ttotal: 131ms\tremaining: 1.92s\n",
      "16:\tlearn: 0.1761725\ttest: 0.3271063\tbest: 0.3271063 (15)\ttotal: 137ms\tremaining: 1.88s\n",
      "17:\tlearn: 0.1673017\ttest: 0.3217599\tbest: 0.3217599 (17)\ttotal: 143ms\tremaining: 1.85s\n",
      "18:\tlearn: 0.1590058\ttest: 0.3071258\tbest: 0.3071258 (18)\ttotal: 155ms\tremaining: 1.89s\n",
      "19:\tlearn: 0.1530893\ttest: 0.3071258\tbest: 0.3071258 (18)\ttotal: 163ms\tremaining: 1.87s\n",
      "20:\tlearn: 0.1475464\ttest: 0.3071258\tbest: 0.3071258 (18)\ttotal: 171ms\tremaining: 1.86s\n",
      "21:\tlearn: 0.1423454\ttest: 0.3071258\tbest: 0.3071258 (18)\ttotal: 179ms\tremaining: 1.85s\n",
      "22:\tlearn: 0.1335664\ttest: 0.2933409\tbest: 0.2933409 (22)\ttotal: 185ms\tremaining: 1.83s\n",
      "23:\tlearn: 0.1279693\ttest: 0.2933409\tbest: 0.2933409 (22)\ttotal: 192ms\tremaining: 1.81s\n",
      "24:\tlearn: 0.1238851\ttest: 0.2914205\tbest: 0.2914205 (24)\ttotal: 199ms\tremaining: 1.79s\n",
      "25:\tlearn: 0.1200284\ttest: 0.2892436\tbest: 0.2892436 (25)\ttotal: 209ms\tremaining: 1.8s\n",
      "26:\tlearn: 0.1153641\ttest: 0.2892436\tbest: 0.2892436 (25)\ttotal: 218ms\tremaining: 1.8s\n",
      "27:\tlearn: 0.1110151\ttest: 0.2892436\tbest: 0.2892436 (25)\ttotal: 225ms\tremaining: 1.78s\n",
      "28:\tlearn: 0.1078285\ttest: 0.2872772\tbest: 0.2872772 (28)\ttotal: 233ms\tremaining: 1.78s\n",
      "29:\tlearn: 0.1039620\ttest: 0.2872772\tbest: 0.2872772 (28)\ttotal: 240ms\tremaining: 1.76s\n",
      "30:\tlearn: 0.1003393\ttest: 0.2872772\tbest: 0.2872772 (28)\ttotal: 248ms\tremaining: 1.75s\n",
      "31:\tlearn: 0.0969391\ttest: 0.2846060\tbest: 0.2846060 (31)\ttotal: 254ms\tremaining: 1.73s\n",
      "32:\tlearn: 0.0944275\ttest: 0.2846060\tbest: 0.2846060 (31)\ttotal: 263ms\tremaining: 1.73s\n",
      "33:\tlearn: 0.0899844\ttest: 0.2752929\tbest: 0.2752929 (33)\ttotal: 268ms\tremaining: 1.7s\n",
      "34:\tlearn: 0.0859093\ttest: 0.2720558\tbest: 0.2720558 (34)\ttotal: 275ms\tremaining: 1.69s\n",
      "35:\tlearn: 0.0833274\ttest: 0.2700307\tbest: 0.2700307 (35)\ttotal: 282ms\tremaining: 1.68s\n",
      "36:\tlearn: 0.0814011\ttest: 0.2687457\tbest: 0.2687457 (36)\ttotal: 290ms\tremaining: 1.67s\n",
      "37:\tlearn: 0.0795566\ttest: 0.2675125\tbest: 0.2675125 (37)\ttotal: 298ms\tremaining: 1.66s\n",
      "38:\tlearn: 0.0777889\ttest: 0.2675125\tbest: 0.2675125 (37)\ttotal: 306ms\tremaining: 1.66s\n",
      "39:\tlearn: 0.0755476\ttest: 0.2607425\tbest: 0.2607425 (39)\ttotal: 313ms\tremaining: 1.64s\n",
      "40:\tlearn: 0.0739394\ttest: 0.2607425\tbest: 0.2607425 (39)\ttotal: 321ms\tremaining: 1.64s\n",
      "41:\tlearn: 0.0719595\ttest: 0.2591166\tbest: 0.2591166 (41)\ttotal: 328ms\tremaining: 1.63s\n",
      "42:\tlearn: 0.0704880\ttest: 0.2591166\tbest: 0.2591166 (41)\ttotal: 336ms\tremaining: 1.61s\n",
      "43:\tlearn: 0.0690724\ttest: 0.2591166\tbest: 0.2591166 (41)\ttotal: 343ms\tremaining: 1.6s\n",
      "44:\tlearn: 0.0677097\ttest: 0.2591166\tbest: 0.2591166 (41)\ttotal: 353ms\tremaining: 1.61s\n",
      "45:\tlearn: 0.0659629\ttest: 0.2575296\tbest: 0.2575296 (45)\ttotal: 361ms\tremaining: 1.6s\n",
      "46:\tlearn: 0.0647113\ttest: 0.2575296\tbest: 0.2575296 (45)\ttotal: 370ms\tremaining: 1.6s\n",
      "47:\tlearn: 0.0635039\ttest: 0.2566312\tbest: 0.2566312 (47)\ttotal: 381ms\tremaining: 1.6s\n",
      "48:\tlearn: 0.0619103\ttest: 0.2551358\tbest: 0.2551358 (48)\ttotal: 389ms\tremaining: 1.59s\n",
      "49:\tlearn: 0.0597676\ttest: 0.2493601\tbest: 0.2493601 (49)\ttotal: 395ms\tremaining: 1.58s\n",
      "50:\tlearn: 0.0584171\ttest: 0.2481736\tbest: 0.2481736 (50)\ttotal: 403ms\tremaining: 1.57s\n",
      "51:\tlearn: 0.0574152\ttest: 0.2481736\tbest: 0.2481736 (50)\ttotal: 411ms\tremaining: 1.56s\n",
      "52:\tlearn: 0.0561210\ttest: 0.2469766\tbest: 0.2469766 (52)\ttotal: 418ms\tremaining: 1.55s\n",
      "53:\tlearn: 0.0549172\ttest: 0.2469766\tbest: 0.2469766 (52)\ttotal: 425ms\tremaining: 1.54s\n",
      "54:\tlearn: 0.0540237\ttest: 0.2463037\tbest: 0.2463037 (54)\ttotal: 432ms\tremaining: 1.53s\n",
      "55:\tlearn: 0.0523460\ttest: 0.2447877\tbest: 0.2447877 (55)\ttotal: 439ms\tremaining: 1.52s\n",
      "56:\tlearn: 0.0512881\ttest: 0.2447877\tbest: 0.2447877 (55)\ttotal: 446ms\tremaining: 1.51s\n",
      "57:\tlearn: 0.0497651\ttest: 0.2400724\tbest: 0.2400724 (57)\ttotal: 452ms\tremaining: 1.5s\n",
      "58:\tlearn: 0.0488029\ttest: 0.2400724\tbest: 0.2400724 (57)\ttotal: 459ms\tremaining: 1.49s\n",
      "59:\tlearn: 0.0480823\ttest: 0.2396387\tbest: 0.2396387 (59)\ttotal: 482ms\tremaining: 1.52s\n",
      "60:\tlearn: 0.0473821\ttest: 0.2396387\tbest: 0.2396387 (59)\ttotal: 489ms\tremaining: 1.51s\n",
      "61:\tlearn: 0.0460632\ttest: 0.2353219\tbest: 0.2353219 (61)\ttotal: 495ms\tremaining: 1.5s\n",
      "62:\tlearn: 0.0452013\ttest: 0.2383661\tbest: 0.2353219 (61)\ttotal: 501ms\tremaining: 1.49s\n",
      "63:\tlearn: 0.0443960\ttest: 0.2376132\tbest: 0.2353219 (61)\ttotal: 508ms\tremaining: 1.48s\n",
      "64:\tlearn: 0.0435920\ttest: 0.2368326\tbest: 0.2353219 (61)\ttotal: 516ms\tremaining: 1.47s\n",
      "65:\tlearn: 0.0427924\ttest: 0.2331549\tbest: 0.2331549 (65)\ttotal: 523ms\tremaining: 1.46s\n",
      "66:\tlearn: 0.0422287\ttest: 0.2331549\tbest: 0.2331549 (65)\ttotal: 531ms\tremaining: 1.45s\n",
      "67:\tlearn: 0.0416793\ttest: 0.2328204\tbest: 0.2328204 (67)\ttotal: 541ms\tremaining: 1.45s\n",
      "68:\tlearn: 0.0411438\ttest: 0.2328204\tbest: 0.2328204 (67)\ttotal: 549ms\tremaining: 1.44s\n",
      "69:\tlearn: 0.0404273\ttest: 0.2294029\tbest: 0.2294029 (69)\ttotal: 556ms\tremaining: 1.43s\n",
      "70:\tlearn: 0.0397354\ttest: 0.2287055\tbest: 0.2287055 (70)\ttotal: 567ms\tremaining: 1.43s\n",
      "71:\tlearn: 0.0390668\ttest: 0.2254479\tbest: 0.2254479 (71)\ttotal: 576ms\tremaining: 1.42s\n",
      "72:\tlearn: 0.0385934\ttest: 0.2250835\tbest: 0.2250835 (72)\ttotal: 586ms\tremaining: 1.42s\n",
      "73:\tlearn: 0.0381312\ttest: 0.2247702\tbest: 0.2247702 (73)\ttotal: 596ms\tremaining: 1.42s\n",
      "74:\tlearn: 0.0376799\ttest: 0.2247702\tbest: 0.2247702 (73)\ttotal: 606ms\tremaining: 1.42s\n",
      "75:\tlearn: 0.0370864\ttest: 0.2241744\tbest: 0.2241744 (75)\ttotal: 614ms\tremaining: 1.41s\n",
      "76:\tlearn: 0.0364995\ttest: 0.2235796\tbest: 0.2235796 (76)\ttotal: 622ms\tremaining: 1.4s\n",
      "77:\tlearn: 0.0359411\ttest: 0.2230232\tbest: 0.2230232 (77)\ttotal: 630ms\tremaining: 1.39s\n",
      "78:\tlearn: 0.0355377\ttest: 0.2227665\tbest: 0.2227665 (78)\ttotal: 639ms\tremaining: 1.38s\n",
      "79:\tlearn: 0.0350072\ttest: 0.2199397\tbest: 0.2199397 (79)\ttotal: 650ms\tremaining: 1.38s\n",
      "80:\tlearn: 0.0342483\ttest: 0.2192130\tbest: 0.2192130 (80)\ttotal: 659ms\tremaining: 1.37s\n",
      "81:\tlearn: 0.0338799\ttest: 0.2189811\tbest: 0.2189811 (81)\ttotal: 667ms\tremaining: 1.37s\n",
      "82:\tlearn: 0.0334073\ttest: 0.2189811\tbest: 0.2189811 (81)\ttotal: 674ms\tremaining: 1.35s\n",
      "83:\tlearn: 0.0329358\ttest: 0.2185081\tbest: 0.2185081 (83)\ttotal: 682ms\tremaining: 1.35s\n",
      "84:\tlearn: 0.0325939\ttest: 0.2182907\tbest: 0.2182907 (84)\ttotal: 689ms\tremaining: 1.34s\n",
      "85:\tlearn: 0.0322589\ttest: 0.2182907\tbest: 0.2182907 (84)\ttotal: 697ms\tremaining: 1.33s\n",
      "86:\tlearn: 0.0318074\ttest: 0.2178252\tbest: 0.2178252 (86)\ttotal: 702ms\tremaining: 1.31s\n",
      "87:\tlearn: 0.0311723\ttest: 0.2151408\tbest: 0.2151408 (87)\ttotal: 708ms\tremaining: 1.3s\n",
      "88:\tlearn: 0.0308642\ttest: 0.2151408\tbest: 0.2151408 (87)\ttotal: 715ms\tremaining: 1.29s\n",
      "89:\tlearn: 0.0305624\ttest: 0.2162845\tbest: 0.2151408 (87)\ttotal: 722ms\tremaining: 1.28s\n",
      "90:\tlearn: 0.0302662\ttest: 0.2160908\tbest: 0.2151408 (87)\ttotal: 730ms\tremaining: 1.27s\n",
      "91:\tlearn: 0.0298668\ttest: 0.2137112\tbest: 0.2137112 (91)\ttotal: 738ms\tremaining: 1.27s\n",
      "92:\tlearn: 0.0295836\ttest: 0.2137112\tbest: 0.2137112 (91)\ttotal: 747ms\tremaining: 1.26s\n",
      "93:\tlearn: 0.0292088\ttest: 0.2133249\tbest: 0.2133249 (93)\ttotal: 753ms\tremaining: 1.25s\n",
      "94:\tlearn: 0.0288513\ttest: 0.2133249\tbest: 0.2133249 (93)\ttotal: 759ms\tremaining: 1.24s\n",
      "95:\tlearn: 0.0285862\ttest: 0.2133249\tbest: 0.2133249 (93)\ttotal: 766ms\tremaining: 1.23s\n",
      "96:\tlearn: 0.0283261\ttest: 0.2133249\tbest: 0.2133249 (93)\ttotal: 773ms\tremaining: 1.22s\n",
      "97:\tlearn: 0.0279889\ttest: 0.2133249\tbest: 0.2133249 (93)\ttotal: 781ms\tremaining: 1.21s\n",
      "98:\tlearn: 0.0276445\ttest: 0.2111441\tbest: 0.2111441 (98)\ttotal: 788ms\tremaining: 1.2s\n",
      "99:\tlearn: 0.0274007\ttest: 0.2109754\tbest: 0.2109754 (99)\ttotal: 793ms\tremaining: 1.19s\n",
      "100:\tlearn: 0.0271610\ttest: 0.2109754\tbest: 0.2109754 (99)\ttotal: 801ms\tremaining: 1.18s\n",
      "101:\tlearn: 0.0269256\ttest: 0.2107801\tbest: 0.2107801 (101)\ttotal: 808ms\tremaining: 1.17s\n",
      "102:\tlearn: 0.0266193\ttest: 0.2104555\tbest: 0.2104555 (102)\ttotal: 816ms\tremaining: 1.16s\n",
      "103:\tlearn: 0.0263066\ttest: 0.2084102\tbest: 0.2084102 (103)\ttotal: 822ms\tremaining: 1.15s\n",
      "104:\tlearn: 0.0260852\ttest: 0.2084102\tbest: 0.2084102 (103)\ttotal: 829ms\tremaining: 1.14s\n",
      "105:\tlearn: 0.0257970\ttest: 0.2084102\tbest: 0.2084102 (103)\ttotal: 837ms\tremaining: 1.14s\n",
      "106:\tlearn: 0.0255838\ttest: 0.2082576\tbest: 0.2082576 (106)\ttotal: 843ms\tremaining: 1.13s\n",
      "107:\tlearn: 0.0252988\ttest: 0.2079420\tbest: 0.2079420 (107)\ttotal: 849ms\tremaining: 1.12s\n",
      "108:\tlearn: 0.0250936\ttest: 0.2077688\tbest: 0.2077688 (108)\ttotal: 857ms\tremaining: 1.11s\n",
      "109:\tlearn: 0.0248917\ttest: 0.2077688\tbest: 0.2077688 (108)\ttotal: 864ms\tremaining: 1.1s\n",
      "110:\tlearn: 0.0244878\ttest: 0.2073358\tbest: 0.2073358 (110)\ttotal: 871ms\tremaining: 1.09s\n",
      "111:\tlearn: 0.0242950\ttest: 0.2073358\tbest: 0.2073358 (110)\ttotal: 878ms\tremaining: 1.08s\n",
      "112:\tlearn: 0.0239097\ttest: 0.2069207\tbest: 0.2069207 (112)\ttotal: 884ms\tremaining: 1.07s\n"
     ]
    },
    {
     "name": "stdout",
     "output_type": "stream",
     "text": [
      "113:\tlearn: 0.0237254\ttest: 0.2069207\tbest: 0.2069207 (112)\ttotal: 892ms\tremaining: 1.06s\n",
      "114:\tlearn: 0.0235439\ttest: 0.2067888\tbest: 0.2067888 (114)\ttotal: 900ms\tremaining: 1.06s\n",
      "115:\tlearn: 0.0233012\ttest: 0.2065154\tbest: 0.2065154 (115)\ttotal: 909ms\tremaining: 1.05s\n",
      "116:\tlearn: 0.0230589\ttest: 0.2082941\tbest: 0.2065154 (115)\ttotal: 916ms\tremaining: 1.04s\n",
      "117:\tlearn: 0.0228259\ttest: 0.2065393\tbest: 0.2065154 (115)\ttotal: 924ms\tremaining: 1.03s\n",
      "118:\tlearn: 0.0226574\ttest: 0.2063969\tbest: 0.2063969 (118)\ttotal: 931ms\tremaining: 1.02s\n",
      "119:\tlearn: 0.0224323\ttest: 0.2061451\tbest: 0.2061451 (119)\ttotal: 937ms\tremaining: 1.01s\n",
      "120:\tlearn: 0.0222695\ttest: 0.2069394\tbest: 0.2061451 (119)\ttotal: 944ms\tremaining: 1.01s\n",
      "121:\tlearn: 0.0221090\ttest: 0.2069394\tbest: 0.2061451 (119)\ttotal: 953ms\tremaining: 1000ms\n",
      "122:\tlearn: 0.0218944\ttest: 0.2052712\tbest: 0.2052712 (122)\ttotal: 959ms\tremaining: 990ms\n",
      "123:\tlearn: 0.0217393\ttest: 0.2051582\tbest: 0.2051582 (123)\ttotal: 966ms\tremaining: 982ms\n",
      "124:\tlearn: 0.0215863\ttest: 0.2051582\tbest: 0.2051582 (123)\ttotal: 973ms\tremaining: 973ms\n",
      "125:\tlearn: 0.0214355\ttest: 0.2050470\tbest: 0.2050470 (125)\ttotal: 980ms\tremaining: 964ms\n",
      "126:\tlearn: 0.0212868\ttest: 0.2049372\tbest: 0.2049372 (126)\ttotal: 988ms\tremaining: 957ms\n",
      "127:\tlearn: 0.0210874\ttest: 0.2047099\tbest: 0.2047099 (127)\ttotal: 994ms\tremaining: 948ms\n",
      "128:\tlearn: 0.0208949\ttest: 0.2044949\tbest: 0.2044949 (128)\ttotal: 1s\tremaining: 938ms\n",
      "129:\tlearn: 0.0206981\ttest: 0.2029306\tbest: 0.2029306 (129)\ttotal: 1.01s\tremaining: 933ms\n",
      "130:\tlearn: 0.0205591\ttest: 0.2028119\tbest: 0.2028119 (130)\ttotal: 1.02s\tremaining: 926ms\n",
      "131:\tlearn: 0.0203686\ttest: 0.2012844\tbest: 0.2012844 (131)\ttotal: 1.03s\tremaining: 917ms\n",
      "132:\tlearn: 0.0201816\ttest: 0.2010700\tbest: 0.2010700 (132)\ttotal: 1.03s\tremaining: 909ms\n",
      "133:\tlearn: 0.0199982\ttest: 0.2008604\tbest: 0.2008604 (133)\ttotal: 1.04s\tremaining: 901ms\n",
      "134:\tlearn: 0.0198211\ttest: 0.2006608\tbest: 0.2006608 (134)\ttotal: 1.05s\tremaining: 892ms\n",
      "135:\tlearn: 0.0196500\ttest: 0.2006608\tbest: 0.2006608 (134)\ttotal: 1.05s\tremaining: 883ms\n",
      "136:\tlearn: 0.0195244\ttest: 0.2006608\tbest: 0.2006608 (134)\ttotal: 1.06s\tremaining: 876ms\n",
      "137:\tlearn: 0.0193584\ttest: 0.2014680\tbest: 0.2006608 (134)\ttotal: 1.07s\tremaining: 867ms\n",
      "138:\tlearn: 0.0192363\ttest: 0.2014680\tbest: 0.2006608 (134)\ttotal: 1.08s\tremaining: 860ms\n",
      "139:\tlearn: 0.0189882\ttest: 0.2011927\tbest: 0.2006608 (134)\ttotal: 1.08s\tremaining: 853ms\n",
      "140:\tlearn: 0.0187466\ttest: 0.2009254\tbest: 0.2006608 (134)\ttotal: 1.09s\tremaining: 847ms\n",
      "141:\tlearn: 0.0186317\ttest: 0.1997158\tbest: 0.1997158 (141)\ttotal: 1.1s\tremaining: 839ms\n",
      "142:\tlearn: 0.0184746\ttest: 0.1995327\tbest: 0.1995327 (142)\ttotal: 1.11s\tremaining: 831ms\n",
      "143:\tlearn: 0.0183630\ttest: 0.1995327\tbest: 0.1995327 (142)\ttotal: 1.12s\tremaining: 823ms\n",
      "144:\tlearn: 0.0182528\ttest: 0.1994374\tbest: 0.1994374 (144)\ttotal: 1.12s\tremaining: 814ms\n",
      "145:\tlearn: 0.0181069\ttest: 0.1992716\tbest: 0.1992716 (145)\ttotal: 1.13s\tremaining: 806ms\n",
      "146:\tlearn: 0.0179997\ttest: 0.1992716\tbest: 0.1992716 (145)\ttotal: 1.14s\tremaining: 797ms\n",
      "147:\tlearn: 0.0178936\ttest: 0.1991792\tbest: 0.1991792 (147)\ttotal: 1.14s\tremaining: 789ms\n",
      "148:\tlearn: 0.0177507\ttest: 0.1997916\tbest: 0.1991792 (147)\ttotal: 1.15s\tremaining: 780ms\n",
      "149:\tlearn: 0.0176100\ttest: 0.2011540\tbest: 0.1991792 (147)\ttotal: 1.16s\tremaining: 773ms\n",
      "150:\tlearn: 0.0174692\ttest: 0.1998490\tbest: 0.1991792 (147)\ttotal: 1.17s\tremaining: 765ms\n",
      "151:\tlearn: 0.0173692\ttest: 0.1986368\tbest: 0.1986368 (151)\ttotal: 1.17s\tremaining: 756ms\n",
      "152:\tlearn: 0.0172703\ttest: 0.1985515\tbest: 0.1985515 (152)\ttotal: 1.18s\tremaining: 748ms\n",
      "153:\tlearn: 0.0171726\ttest: 0.1985515\tbest: 0.1985515 (152)\ttotal: 1.19s\tremaining: 741ms\n",
      "154:\tlearn: 0.0170761\ttest: 0.1985515\tbest: 0.1985515 (152)\ttotal: 1.2s\tremaining: 733ms\n",
      "155:\tlearn: 0.0169456\ttest: 0.1983982\tbest: 0.1983982 (155)\ttotal: 1.2s\tremaining: 725ms\n",
      "156:\tlearn: 0.0168515\ttest: 0.1983160\tbest: 0.1983160 (156)\ttotal: 1.21s\tremaining: 717ms\n",
      "157:\tlearn: 0.0167221\ttest: 0.1970869\tbest: 0.1970869 (157)\ttotal: 1.22s\tremaining: 708ms\n",
      "158:\tlearn: 0.0166304\ttest: 0.1970116\tbest: 0.1970116 (158)\ttotal: 1.22s\tremaining: 700ms\n",
      "159:\tlearn: 0.0165398\ttest: 0.1969415\tbest: 0.1969415 (159)\ttotal: 1.23s\tremaining: 691ms\n",
      "160:\tlearn: 0.0163536\ttest: 0.1967310\tbest: 0.1967310 (160)\ttotal: 1.23s\tremaining: 682ms\n",
      "161:\tlearn: 0.0162355\ttest: 0.1965948\tbest: 0.1965948 (161)\ttotal: 1.24s\tremaining: 674ms\n",
      "162:\tlearn: 0.0161490\ttest: 0.1965948\tbest: 0.1965948 (161)\ttotal: 1.25s\tremaining: 667ms\n",
      "163:\tlearn: 0.0160318\ttest: 0.1954283\tbest: 0.1954283 (163)\ttotal: 1.25s\tremaining: 658ms\n",
      "164:\tlearn: 0.0159166\ttest: 0.1952930\tbest: 0.1952930 (164)\ttotal: 1.26s\tremaining: 650ms\n",
      "165:\tlearn: 0.0157439\ttest: 0.1950981\tbest: 0.1950981 (165)\ttotal: 1.27s\tremaining: 643ms\n",
      "166:\tlearn: 0.0156306\ttest: 0.1963469\tbest: 0.1950981 (165)\ttotal: 1.28s\tremaining: 634ms\n",
      "167:\tlearn: 0.0155190\ttest: 0.1962153\tbest: 0.1950981 (165)\ttotal: 1.28s\tremaining: 626ms\n",
      "168:\tlearn: 0.0154090\ttest: 0.1950875\tbest: 0.1950875 (168)\ttotal: 1.29s\tremaining: 617ms\n",
      "169:\tlearn: 0.0153037\ttest: 0.1950205\tbest: 0.1950205 (169)\ttotal: 1.29s\tremaining: 609ms\n",
      "170:\tlearn: 0.0151998\ttest: 0.1949014\tbest: 0.1949014 (170)\ttotal: 1.3s\tremaining: 600ms\n",
      "171:\tlearn: 0.0150974\ttest: 0.1947842\tbest: 0.1947842 (171)\ttotal: 1.3s\tremaining: 592ms\n",
      "172:\tlearn: 0.0150221\ttest: 0.1937569\tbest: 0.1937569 (172)\ttotal: 1.31s\tremaining: 584ms\n",
      "173:\tlearn: 0.0149476\ttest: 0.1936967\tbest: 0.1936967 (173)\ttotal: 1.32s\tremaining: 576ms\n",
      "174:\tlearn: 0.0148739\ttest: 0.1936402\tbest: 0.1936402 (174)\ttotal: 1.32s\tremaining: 568ms\n",
      "175:\tlearn: 0.0147726\ttest: 0.1925727\tbest: 0.1925727 (175)\ttotal: 1.33s\tremaining: 560ms\n",
      "176:\tlearn: 0.0146231\ttest: 0.1914666\tbest: 0.1914666 (176)\ttotal: 1.34s\tremaining: 551ms\n",
      "177:\tlearn: 0.0145524\ttest: 0.1914097\tbest: 0.1914097 (177)\ttotal: 1.34s\tremaining: 543ms\n",
      "178:\tlearn: 0.0144583\ttest: 0.1903788\tbest: 0.1903788 (178)\ttotal: 1.35s\tremaining: 535ms\n",
      "179:\tlearn: 0.0143639\ttest: 0.1902692\tbest: 0.1902692 (179)\ttotal: 1.35s\tremaining: 527ms\n",
      "180:\tlearn: 0.0142956\ttest: 0.1893086\tbest: 0.1893086 (180)\ttotal: 1.36s\tremaining: 519ms\n",
      "181:\tlearn: 0.0142047\ttest: 0.1883054\tbest: 0.1883054 (181)\ttotal: 1.37s\tremaining: 511ms\n",
      "182:\tlearn: 0.0141379\ttest: 0.1873612\tbest: 0.1873612 (182)\ttotal: 1.37s\tremaining: 502ms\n",
      "183:\tlearn: 0.0140006\ttest: 0.1863262\tbest: 0.1863262 (183)\ttotal: 1.38s\tremaining: 494ms\n",
      "184:\tlearn: 0.0139357\ttest: 0.1854013\tbest: 0.1854013 (184)\ttotal: 1.38s\tremaining: 486ms\n",
      "185:\tlearn: 0.0138713\ttest: 0.1844853\tbest: 0.1844853 (185)\ttotal: 1.39s\tremaining: 478ms\n",
      "186:\tlearn: 0.0137392\ttest: 0.1834818\tbest: 0.1834818 (186)\ttotal: 1.4s\tremaining: 470ms\n",
      "187:\tlearn: 0.0136524\ttest: 0.1825332\tbest: 0.1825332 (187)\ttotal: 1.4s\tremaining: 462ms\n",
      "188:\tlearn: 0.0135694\ttest: 0.1815996\tbest: 0.1815996 (188)\ttotal: 1.41s\tremaining: 455ms\n",
      "189:\tlearn: 0.0135083\ttest: 0.1807199\tbest: 0.1807199 (189)\ttotal: 1.42s\tremaining: 447ms\n",
      "190:\tlearn: 0.0134476\ttest: 0.1807199\tbest: 0.1807199 (189)\ttotal: 1.42s\tremaining: 440ms\n",
      "191:\tlearn: 0.0133646\ttest: 0.1798040\tbest: 0.1798040 (191)\ttotal: 1.43s\tremaining: 432ms\n",
      "192:\tlearn: 0.0133052\ttest: 0.1789480\tbest: 0.1789480 (192)\ttotal: 1.44s\tremaining: 424ms\n",
      "193:\tlearn: 0.0132238\ttest: 0.1780496\tbest: 0.1780496 (193)\ttotal: 1.44s\tremaining: 416ms\n",
      "194:\tlearn: 0.0131434\ttest: 0.1771605\tbest: 0.1771605 (194)\ttotal: 1.45s\tremaining: 409ms\n",
      "195:\tlearn: 0.0130244\ttest: 0.1762398\tbest: 0.1762398 (195)\ttotal: 1.46s\tremaining: 401ms\n",
      "196:\tlearn: 0.0129465\ttest: 0.1753686\tbest: 0.1753686 (196)\ttotal: 1.46s\tremaining: 393ms\n",
      "197:\tlearn: 0.0128907\ttest: 0.1745512\tbest: 0.1745512 (197)\ttotal: 1.47s\tremaining: 386ms\n",
      "198:\tlearn: 0.0128355\ttest: 0.1737427\tbest: 0.1737427 (198)\ttotal: 1.47s\tremaining: 378ms\n",
      "199:\tlearn: 0.0127807\ttest: 0.1729403\tbest: 0.1729403 (199)\ttotal: 1.48s\tremaining: 370ms\n",
      "200:\tlearn: 0.0127263\ttest: 0.1729403\tbest: 0.1729403 (199)\ttotal: 1.49s\tremaining: 363ms\n",
      "201:\tlearn: 0.0126726\ttest: 0.1728972\tbest: 0.1728972 (201)\ttotal: 1.5s\tremaining: 355ms\n",
      "202:\tlearn: 0.0125614\ttest: 0.1720286\tbest: 0.1720286 (202)\ttotal: 1.5s\tremaining: 348ms\n",
      "203:\tlearn: 0.0124889\ttest: 0.1712064\tbest: 0.1712064 (203)\ttotal: 1.51s\tremaining: 340ms\n",
      "204:\tlearn: 0.0124370\ttest: 0.1704755\tbest: 0.1704755 (204)\ttotal: 1.52s\tremaining: 333ms\n",
      "205:\tlearn: 0.0123677\ttest: 0.1696718\tbest: 0.1696718 (205)\ttotal: 1.52s\tremaining: 325ms\n",
      "206:\tlearn: 0.0123167\ttest: 0.1689145\tbest: 0.1689145 (206)\ttotal: 1.53s\tremaining: 318ms\n",
      "207:\tlearn: 0.0122474\ttest: 0.1681225\tbest: 0.1681225 (207)\ttotal: 1.54s\tremaining: 310ms\n",
      "208:\tlearn: 0.0121801\ttest: 0.1680799\tbest: 0.1680799 (208)\ttotal: 1.54s\tremaining: 303ms\n",
      "209:\tlearn: 0.0121306\ttest: 0.1673388\tbest: 0.1673388 (209)\ttotal: 1.55s\tremaining: 295ms\n",
      "210:\tlearn: 0.0120647\ttest: 0.1665677\tbest: 0.1665677 (210)\ttotal: 1.56s\tremaining: 288ms\n",
      "211:\tlearn: 0.0119994\ttest: 0.1658037\tbest: 0.1658037 (211)\ttotal: 1.56s\tremaining: 280ms\n",
      "212:\tlearn: 0.0119514\ttest: 0.1650834\tbest: 0.1650834 (212)\ttotal: 1.57s\tremaining: 273ms\n",
      "213:\tlearn: 0.0118860\ttest: 0.1643299\tbest: 0.1643299 (213)\ttotal: 1.58s\tremaining: 265ms\n",
      "214:\tlearn: 0.0118389\ttest: 0.1642936\tbest: 0.1642936 (214)\ttotal: 1.58s\tremaining: 258ms\n"
     ]
    },
    {
     "name": "stdout",
     "output_type": "stream",
     "text": [
      "215:\tlearn: 0.0117921\ttest: 0.1635880\tbest: 0.1635880 (215)\ttotal: 1.59s\tremaining: 251ms\n",
      "216:\tlearn: 0.0117458\ttest: 0.1628883\tbest: 0.1628883 (216)\ttotal: 1.6s\tremaining: 243ms\n",
      "217:\tlearn: 0.0116999\ttest: 0.1621958\tbest: 0.1621958 (217)\ttotal: 1.61s\tremaining: 236ms\n",
      "218:\tlearn: 0.0116542\ttest: 0.1615078\tbest: 0.1615078 (218)\ttotal: 1.61s\tremaining: 228ms\n",
      "219:\tlearn: 0.0115933\ttest: 0.1607919\tbest: 0.1607919 (219)\ttotal: 1.62s\tremaining: 221ms\n",
      "220:\tlearn: 0.0115316\ttest: 0.1600796\tbest: 0.1600796 (220)\ttotal: 1.63s\tremaining: 213ms\n",
      "221:\tlearn: 0.0114718\ttest: 0.1593760\tbest: 0.1593760 (221)\ttotal: 1.63s\tremaining: 206ms\n",
      "222:\tlearn: 0.0114280\ttest: 0.1587111\tbest: 0.1587111 (222)\ttotal: 1.64s\tremaining: 199ms\n",
      "223:\tlearn: 0.0113844\ttest: 0.1580530\tbest: 0.1580530 (223)\ttotal: 1.65s\tremaining: 191ms\n",
      "224:\tlearn: 0.0112941\ttest: 0.1573323\tbest: 0.1573323 (224)\ttotal: 1.65s\tremaining: 184ms\n",
      "225:\tlearn: 0.0112052\ttest: 0.1566186\tbest: 0.1566186 (225)\ttotal: 1.66s\tremaining: 176ms\n",
      "226:\tlearn: 0.0111488\ttest: 0.1559450\tbest: 0.1559450 (226)\ttotal: 1.67s\tremaining: 169ms\n",
      "227:\tlearn: 0.0110912\ttest: 0.1552736\tbest: 0.1552736 (227)\ttotal: 1.67s\tremaining: 161ms\n",
      "228:\tlearn: 0.0110358\ttest: 0.1546114\tbest: 0.1546114 (228)\ttotal: 1.68s\tremaining: 154ms\n",
      "229:\tlearn: 0.0109951\ttest: 0.1540169\tbest: 0.1540169 (229)\ttotal: 1.69s\tremaining: 147ms\n",
      "230:\tlearn: 0.0109109\ttest: 0.1533331\tbest: 0.1533331 (230)\ttotal: 1.7s\tremaining: 140ms\n",
      "231:\tlearn: 0.0108710\ttest: 0.1527168\tbest: 0.1527168 (231)\ttotal: 1.7s\tremaining: 132ms\n",
      "232:\tlearn: 0.0108314\ttest: 0.1521053\tbest: 0.1521053 (232)\ttotal: 1.71s\tremaining: 125ms\n",
      "233:\tlearn: 0.0107921\ttest: 0.1514986\tbest: 0.1514986 (233)\ttotal: 1.72s\tremaining: 117ms\n",
      "234:\tlearn: 0.0107533\ttest: 0.1508967\tbest: 0.1508967 (234)\ttotal: 1.72s\tremaining: 110ms\n",
      "235:\tlearn: 0.0107012\ttest: 0.1502708\tbest: 0.1502708 (235)\ttotal: 1.73s\tremaining: 103ms\n",
      "236:\tlearn: 0.0106628\ttest: 0.1496786\tbest: 0.1496786 (236)\ttotal: 1.74s\tremaining: 95.4ms\n",
      "237:\tlearn: 0.0106105\ttest: 0.1490603\tbest: 0.1490603 (237)\ttotal: 1.74s\tremaining: 88ms\n",
      "238:\tlearn: 0.0105318\ttest: 0.1484192\tbest: 0.1484192 (238)\ttotal: 1.75s\tremaining: 80.5ms\n",
      "239:\tlearn: 0.0104809\ttest: 0.1478113\tbest: 0.1478113 (239)\ttotal: 1.75s\tremaining: 73.1ms\n",
      "240:\tlearn: 0.0104440\ttest: 0.1472388\tbest: 0.1472388 (240)\ttotal: 1.76s\tremaining: 65.8ms\n",
      "241:\tlearn: 0.0104075\ttest: 0.1466706\tbest: 0.1466706 (241)\ttotal: 1.77s\tremaining: 58.5ms\n",
      "242:\tlearn: 0.0103577\ttest: 0.1460768\tbest: 0.1460768 (242)\ttotal: 1.78s\tremaining: 51.2ms\n",
      "243:\tlearn: 0.0103093\ttest: 0.1454897\tbest: 0.1454897 (243)\ttotal: 1.78s\tremaining: 43.9ms\n",
      "244:\tlearn: 0.0102737\ttest: 0.1449335\tbest: 0.1449335 (244)\ttotal: 1.79s\tremaining: 36.6ms\n",
      "245:\tlearn: 0.0102383\ttest: 0.1443826\tbest: 0.1443826 (245)\ttotal: 1.8s\tremaining: 29.3ms\n",
      "246:\tlearn: 0.0101910\ttest: 0.1438088\tbest: 0.1438088 (246)\ttotal: 1.8s\tremaining: 21.9ms\n",
      "247:\tlearn: 0.0101563\ttest: 0.1432652\tbest: 0.1432652 (247)\ttotal: 1.81s\tremaining: 14.6ms\n",
      "248:\tlearn: 0.0101087\ttest: 0.1426982\tbest: 0.1426982 (248)\ttotal: 1.82s\tremaining: 7.3ms\n",
      "249:\tlearn: 0.0100618\ttest: 0.1421356\tbest: 0.1421356 (249)\ttotal: 1.82s\tremaining: 0us\n",
      "bestTest = 0.142135635\n",
      "bestIteration = 249\n"
     ]
    },
    {
     "data": {
      "text/plain": [
       "<catboost.core.CatBoostClassifier at 0x1ef03660f40>"
      ]
     },
     "execution_count": 105,
     "metadata": {},
     "output_type": "execute_result"
    }
   ],
   "source": [
    "from sklearn.model_selection import train_test_split\n",
    "\n",
    "train, val = train_test_split(train, test_size=0.33)\n",
    "\n",
    "clf.fit(train[k_best], \n",
    "        train.iloc[:, 0],\n",
    "        eval_set=(val[k_best], val.iloc[:, 0]),\n",
    ")"
   ]
  },
  {
   "cell_type": "code",
   "execution_count": 106,
   "metadata": {},
   "outputs": [
    {
     "data": {
      "text/plain": [
       "1.0"
      ]
     },
     "execution_count": 106,
     "metadata": {},
     "output_type": "execute_result"
    }
   ],
   "source": [
    "from sklearn.metrics import accuracy_score\n",
    "\n",
    "accuracy_score(train.iloc[:, 0], clf.predict(train[k_best]))"
   ]
  },
  {
   "cell_type": "code",
   "execution_count": 107,
   "metadata": {},
   "outputs": [
    {
     "data": {
      "text/plain": [
       "1.0"
      ]
     },
     "execution_count": 107,
     "metadata": {},
     "output_type": "execute_result"
    }
   ],
   "source": [
    "accuracy_score(val.iloc[:, 0], clf.predict(val[k_best]))"
   ]
  },
  {
   "cell_type": "markdown",
   "metadata": {
    "pycharm": {
     "name": "#%% md\n"
    }
   },
   "source": [
    "# Testing"
   ]
  },
  {
   "cell_type": "code",
   "execution_count": null,
   "metadata": {},
   "outputs": [],
   "source": [
    "get_nan_stats(test)"
   ]
  },
  {
   "cell_type": "code",
   "execution_count": null,
   "metadata": {},
   "outputs": [],
   "source": [
    "# weird there is still a nan value after all the preprocessing. TO BE FIXED\n",
    "test['Age']. fillna(value=test['Age'].mean(), inplace=True)"
   ]
  },
  {
   "cell_type": "code",
   "execution_count": 108,
   "metadata": {},
   "outputs": [],
   "source": [
    "predictions = clf.predict(test)\n",
    "predictions = pd.DataFrame(predictions, columns=['Survived'])\n",
    "test = load_data(path=\"../data/raw/titanic/test.csv\")\n",
    "predictions = pd.concat((test.iloc[:, 0], predictions), axis = 1)\n",
    "predictions.to_csv('y_test15.csv', sep=\",\", index = False)"
   ]
  },
  {
   "cell_type": "code",
   "execution_count": null,
   "metadata": {},
   "outputs": [],
   "source": []
  }
 ],
 "metadata": {
  "kernelspec": {
   "display_name": "Python 3 (ipykernel)",
   "language": "python",
   "name": "python3"
  },
  "language_info": {
   "codemirror_mode": {
    "name": "ipython",
    "version": 3
   },
   "file_extension": ".py",
   "mimetype": "text/x-python",
   "name": "python",
   "nbconvert_exporter": "python",
   "pygments_lexer": "ipython3",
   "version": "3.10.4"
  }
 },
 "nbformat": 4,
 "nbformat_minor": 1
}
